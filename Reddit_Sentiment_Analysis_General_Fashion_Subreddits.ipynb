{
  "cells": [
    {
      "cell_type": "markdown",
      "metadata": {
        "id": "mTjbWIL8NmTL"
      },
      "source": [
        "\n",
        "## General Fashion Sentiment Analysis\n",
        "This model measures sentiment analysis on top subreddits related to fashion."
      ]
    },
    {
      "cell_type": "code",
      "execution_count": null,
      "metadata": {
        "colab": {
          "base_uri": "https://localhost:8080/"
        },
        "id": "yjK2e_FjMo-c",
        "outputId": "bcb259c8-f593-47a7-b169-84287f899c25"
      },
      "outputs": [
        {
          "output_type": "stream",
          "name": "stdout",
          "text": [
            "Collecting praw\n",
            "  Downloading praw-7.5.0-py3-none-any.whl (176 kB)\n",
            "\u001b[?25l\r\u001b[K     |█▉                              | 10 kB 20.5 MB/s eta 0:00:01\r\u001b[K     |███▊                            | 20 kB 23.2 MB/s eta 0:00:01\r\u001b[K     |█████▋                          | 30 kB 25.7 MB/s eta 0:00:01\r\u001b[K     |███████▍                        | 40 kB 26.9 MB/s eta 0:00:01\r\u001b[K     |█████████▎                      | 51 kB 8.4 MB/s eta 0:00:01\r\u001b[K     |███████████▏                    | 61 kB 9.9 MB/s eta 0:00:01\r\u001b[K     |█████████████                   | 71 kB 9.0 MB/s eta 0:00:01\r\u001b[K     |██████████████▉                 | 81 kB 10.0 MB/s eta 0:00:01\r\u001b[K     |████████████████▊               | 92 kB 11.0 MB/s eta 0:00:01\r\u001b[K     |██████████████████▋             | 102 kB 8.7 MB/s eta 0:00:01\r\u001b[K     |████████████████████▍           | 112 kB 8.7 MB/s eta 0:00:01\r\u001b[K     |██████████████████████▎         | 122 kB 8.7 MB/s eta 0:00:01\r\u001b[K     |████████████████████████▏       | 133 kB 8.7 MB/s eta 0:00:01\r\u001b[K     |██████████████████████████      | 143 kB 8.7 MB/s eta 0:00:01\r\u001b[K     |███████████████████████████▉    | 153 kB 8.7 MB/s eta 0:00:01\r\u001b[K     |█████████████████████████████▊  | 163 kB 8.7 MB/s eta 0:00:01\r\u001b[K     |███████████████████████████████▌| 174 kB 8.7 MB/s eta 0:00:01\r\u001b[K     |████████████████████████████████| 176 kB 8.7 MB/s \n",
            "\u001b[?25hCollecting update-checker>=0.18\n",
            "  Downloading update_checker-0.18.0-py3-none-any.whl (7.0 kB)\n",
            "Collecting websocket-client>=0.54.0\n",
            "  Downloading websocket_client-1.3.2-py3-none-any.whl (54 kB)\n",
            "\u001b[K     |████████████████████████████████| 54 kB 3.1 MB/s \n",
            "\u001b[?25hCollecting prawcore<3,>=2.1\n",
            "  Downloading prawcore-2.3.0-py3-none-any.whl (16 kB)\n",
            "Requirement already satisfied: requests<3.0,>=2.6.0 in /usr/local/lib/python3.7/dist-packages (from prawcore<3,>=2.1->praw) (2.23.0)\n",
            "Requirement already satisfied: certifi>=2017.4.17 in /usr/local/lib/python3.7/dist-packages (from requests<3.0,>=2.6.0->prawcore<3,>=2.1->praw) (2021.10.8)\n",
            "Requirement already satisfied: chardet<4,>=3.0.2 in /usr/local/lib/python3.7/dist-packages (from requests<3.0,>=2.6.0->prawcore<3,>=2.1->praw) (3.0.4)\n",
            "Requirement already satisfied: idna<3,>=2.5 in /usr/local/lib/python3.7/dist-packages (from requests<3.0,>=2.6.0->prawcore<3,>=2.1->praw) (2.10)\n",
            "Requirement already satisfied: urllib3!=1.25.0,!=1.25.1,<1.26,>=1.21.1 in /usr/local/lib/python3.7/dist-packages (from requests<3.0,>=2.6.0->prawcore<3,>=2.1->praw) (1.24.3)\n",
            "Installing collected packages: websocket-client, update-checker, prawcore, praw\n",
            "Successfully installed praw-7.5.0 prawcore-2.3.0 update-checker-0.18.0 websocket-client-1.3.2\n"
          ]
        }
      ],
      "source": [
        "#Install PRAW, a Python library for scrapping Reddit\n",
        "\n",
        "! pip install praw"
      ]
    },
    {
      "cell_type": "code",
      "execution_count": null,
      "metadata": {
        "id": "0X2eMYlcOVPI"
      },
      "outputs": [],
      "source": [
        "#install other libraries for performing analysis\n",
        "\n",
        "from pprint import pprint\n",
        "import pandas as pd\n",
        "import numpy as np\n",
        "import matplotlib.pyplot as plt\n",
        "import seaborn as sns \n",
        "import praw"
      ]
    },
    {
      "cell_type": "code",
      "execution_count": null,
      "metadata": {
        "id": "CZZeQ_JHPB8x"
      },
      "outputs": [],
      "source": [
        "user_agent = 'Digital Fashion Scraper 1.0 by /u/BeautifulEnough9907'\n",
        "reddit = praw.Reddit(\n",
        "    client_id='JRczjCRsWmR3odTjccaE8Q',\n",
        "    client_secret='qJDs55HYI65Kci7707yBFPR3QhppXw',\n",
        "    user_agent=user_agent,\n",
        "    check_for_async=False\n",
        ")"
      ]
    },
    {
      "cell_type": "code",
      "execution_count": null,
      "metadata": {
        "id": "efLFb2phBxXE"
      },
      "outputs": [],
      "source": [
        "#list of subreddits\n",
        "\n",
        "fashion = reddit.subreddit('fashion')\n",
        "female_fashion_advice = reddit.subreddit('femalefashionadvice')\n",
        "streetwear = reddit.subreddit('streetwear')\n",
        "fashion_plus = reddit.subreddit('FashionPlus')\n",
        "frugal_female_fashion = reddit.subreddit('FrugalFemaleFashion')\n",
        "ethical_fashion = reddit.subreddit('ethicalfashion') #put this into its own colab\n",
        "fashion_womens_35 = reddit.subreddit('fashionwomens35')"
      ]
    },
    {
      "cell_type": "code",
      "execution_count": null,
      "metadata": {
        "colab": {
          "base_uri": "https://localhost:8080/"
        },
        "id": "2iK_7urUksIt",
        "outputId": "79f75869-0a00-40ac-a1cb-68622eea31ed"
      },
      "outputs": [
        {
          "output_type": "stream",
          "name": "stdout",
          "text": [
            "935\n"
          ]
        }
      ],
      "source": [
        "#grab all the headlines\n",
        "\n",
        "headlines = set()\n",
        "for submission in female_fashion_advice.new(limit=None):\n",
        "  headlines.add(submission.title)\n",
        "print(len(headlines))"
      ]
    },
    {
      "cell_type": "code",
      "execution_count": null,
      "metadata": {
        "colab": {
          "base_uri": "https://localhost:8080/"
        },
        "id": "vK7FuZOMycUq",
        "outputId": "550d6afe-48b7-44a5-fb9e-3ea2a897840d"
      },
      "outputs": [
        {
          "output_type": "stream",
          "name": "stdout",
          "text": [
            "                                               Title  Score  \\\n",
            "0                           Business casual joggers?      3   \n",
            "1                       I can’t take myself anywhere      7   \n",
            "2    Tiny white fibers stuck in fabric of underwear?      0   \n",
            "3  Where to shop womens wide soled shoes in perso...      4   \n",
            "4   Interview outfit for college distinction program     11   \n",
            "5                          Basic Leather Belt — HELP      0   \n",
            "6                     How to wear a wide brimmed hat     59   \n",
            "7  Favourite online stores with decent quality an...      6   \n",
            "8   Stylish non-slip shoes for a restaurant manager?     11   \n",
            "9    What can I wear over this dress if it’s chilly?      0   \n",
            "\n",
            "   Number of Comments                                    Submission Text  \\\n",
            "0                   0  Is there such a thing and what closed-toe shoe...   \n",
            "1                   3  Good morning ladies! I’m desperate to wear lig...   \n",
            "2                   4  I have Pact’s black, 95% organic cotton underw...   \n",
            "3                   3  I’m gonna be honest I have weirdly sized feet....   \n",
            "4                   3  I’m a 19-year old college student about to int...   \n",
            "5                   6  Anyone know where to find a basic, decent-qual...   \n",
            "6                  20  I have never been a hat person but I got a flo...   \n",
            "7                  10  I’ve gained some weight so I pretty much need ...   \n",
            "8                  23  Hi there\\n\\n\\nSo I recently got promoted to ma...   \n",
            "9                   3  Wearing a dress similar to [this](https://www....   \n",
            "\n",
            "   Date Created      ID  \n",
            "0  1.652183e+09  umgplv  \n",
            "1  1.652181e+09  umg6ds  \n",
            "2  1.652159e+09  umatam  \n",
            "3  1.652157e+09  umadih  \n",
            "4  1.652151e+09  um8i0c  \n",
            "5  1.652144e+09  um5zte  \n",
            "6  1.652138e+09  um4a00  \n",
            "7  1.652133e+09  um28eq  \n",
            "8  1.652132e+09  um1urj  \n",
            "9  1.652131e+09  um1gwt  \n"
          ]
        }
      ],
      "source": [
        "#grab more data and place in csv\n",
        "\n",
        "posts = []\n",
        "for post in female_fashion_advice.new(limit=10):\n",
        "  posts.append([post.title, post.score, post.num_comments, post.selftext, post.created_utc, post.id])\n",
        "posts = pd.DataFrame(posts, columns=['Title', 'Score', 'Number of Comments', 'Submission Text', 'Date Created', 'ID'])\n",
        "print(posts)"
      ]
    },
    {
      "cell_type": "code",
      "source": [
        "#iterating through comments\n",
        "from praw.models import MoreComments\n",
        "\n",
        "submission = reddit.submission(id='umgplv')\n",
        "\n",
        "submission.comments.replace_more(limit=0)\n",
        "\n",
        "response = []\n",
        "for comment in submission.comments.list():\n",
        "  response.append(comment.body)\n",
        "  print(response)"
      ],
      "metadata": {
        "id": "XZKdaoxxy2H3"
      },
      "execution_count": null,
      "outputs": []
    },
    {
      "cell_type": "code",
      "source": [
        "#converting UNIX time to readable format\n",
        "\n",
        "from datetime import datetime\n",
        "\n",
        "for i in posts['Date Created']:\n",
        "  datetime.fromtimestamp(i)\n",
        "  datetime.utcfromtimestamp(i)\n",
        "  print(i)"
      ],
      "metadata": {
        "colab": {
          "base_uri": "https://localhost:8080/"
        },
        "id": "IAvLNpebhZNp",
        "outputId": "c1115a6e-7c09-4c4b-aa9d-a37084a1bdd7"
      },
      "execution_count": null,
      "outputs": [
        {
          "output_type": "stream",
          "name": "stdout",
          "text": [
            "1652158915.0\n",
            "1652157393.0\n",
            "1652151204.0\n",
            "1652143666.0\n",
            "1652138431.0\n",
            "1652132775.0\n",
            "1652131744.0\n",
            "1652130721.0\n",
            "1652128804.0\n",
            "1652122961.0\n"
          ]
        }
      ]
    },
    {
      "cell_type": "code",
      "execution_count": null,
      "metadata": {
        "id": "ieMuVXsuNIX2",
        "colab": {
          "base_uri": "https://localhost:8080/"
        },
        "outputId": "d75cdb2e-1fd4-4a1e-9b34-9622f819e22d"
      },
      "outputs": [
        {
          "output_type": "stream",
          "name": "stdout",
          "text": [
            "                                                   0\n",
            "0                                 Frat Formal Advice\n",
            "1  Forest green lace dress - Ideas for warm layer...\n",
            "2       What heels would go well with this jumpsuit?\n",
            "3                             Confused about jewelry\n",
            "4         Everlane tiered mockneck dress alterations\n"
          ]
        }
      ],
      "source": [
        "#Analysing the headlines\n",
        "\n",
        "df = pd.DataFrame(headlines)\n",
        "print(df.head())\n",
        "df.to_csv('headline.csv', header=False, encoding='utf-8', index=False)"
      ]
    },
    {
      "cell_type": "code",
      "execution_count": null,
      "metadata": {
        "colab": {
          "base_uri": "https://localhost:8080/"
        },
        "id": "3Xp9EB9oNVbl",
        "outputId": "54b38927-b194-43c1-985e-2e34830e35e5"
      },
      "outputs": [
        {
          "output_type": "stream",
          "name": "stdout",
          "text": [
            "[nltk_data] Downloading package vader_lexicon to /root/nltk_data...\n"
          ]
        },
        {
          "output_type": "execute_result",
          "data": {
            "text/plain": [
              "True"
            ]
          },
          "metadata": {},
          "execution_count": 13
        }
      ],
      "source": [
        "import nltk\n",
        "nltk.download('vader_lexicon')"
      ]
    },
    {
      "cell_type": "code",
      "execution_count": null,
      "metadata": {
        "colab": {
          "base_uri": "https://localhost:8080/"
        },
        "id": "VP6XnxjCNm7T",
        "outputId": "922ae3b0-28ad-42be-b45f-d5310a8fcb74"
      },
      "outputs": [
        {
          "output_type": "stream",
          "name": "stdout",
          "text": [
            "[{'neg': 0.0, 'neu': 1.0, 'pos': 0.0, 'compound': 0.0, 'headlines': 'Frat Formal Advice'}, {'neg': 0.0, 'neu': 0.888, 'pos': 0.112, 'compound': 0.2263, 'headlines': 'Forest green lace dress - Ideas for warm layer to cover up for early spring wedding (guest)'}, {'neg': 0.0, 'neu': 0.769, 'pos': 0.231, 'compound': 0.2732, 'headlines': 'What heels would go well with this jumpsuit?'}, {'neg': 0.535, 'neu': 0.465, 'pos': 0.0, 'compound': -0.3182, 'headlines': 'Confused about jewelry'}, {'neg': 0.0, 'neu': 1.0, 'pos': 0.0, 'compound': 0.0, 'headlines': 'Everlane tiered mockneck dress alterations'}]\n"
          ]
        },
        {
          "output_type": "stream",
          "name": "stderr",
          "text": [
            "/usr/local/lib/python3.7/dist-packages/nltk/twitter/__init__.py:20: UserWarning: The twython library has not been installed. Some functionality from the twitter package will not be available.\n",
            "  warnings.warn(\"The twython library has not been installed. \"\n"
          ]
        }
      ],
      "source": [
        "from nltk.sentiment.vader import SentimentIntensityAnalyzer as SIA\n",
        "\n",
        "sia = SIA()\n",
        "results = []\n",
        "\n",
        "for line in headlines:\n",
        "  pol_score = sia.polarity_scores(line)\n",
        "  pol_score['headlines'] = line\n",
        "  results.append(pol_score)\n",
        "\n",
        "print(results[:5])"
      ]
    },
    {
      "cell_type": "code",
      "execution_count": null,
      "metadata": {
        "colab": {
          "base_uri": "https://localhost:8080/",
          "height": 206
        },
        "id": "Bq1dWcJFOTHw",
        "outputId": "9b5cae9e-a4bf-440b-b7d6-504e986ed568"
      },
      "outputs": [
        {
          "output_type": "execute_result",
          "data": {
            "text/plain": [
              "     neg    neu    pos  compound  \\\n",
              "0  0.000  1.000  0.000    0.0000   \n",
              "1  0.000  0.888  0.112    0.2263   \n",
              "2  0.000  0.769  0.231    0.2732   \n",
              "3  0.535  0.465  0.000   -0.3182   \n",
              "4  0.000  1.000  0.000    0.0000   \n",
              "\n",
              "                                           headlines  \n",
              "0                                 Frat Formal Advice  \n",
              "1  Forest green lace dress - Ideas for warm layer...  \n",
              "2       What heels would go well with this jumpsuit?  \n",
              "3                             Confused about jewelry  \n",
              "4         Everlane tiered mockneck dress alterations  "
            ],
            "text/html": [
              "\n",
              "  <div id=\"df-2e0f1c53-c750-4d57-b7f1-708c52a45ec5\">\n",
              "    <div class=\"colab-df-container\">\n",
              "      <div>\n",
              "<style scoped>\n",
              "    .dataframe tbody tr th:only-of-type {\n",
              "        vertical-align: middle;\n",
              "    }\n",
              "\n",
              "    .dataframe tbody tr th {\n",
              "        vertical-align: top;\n",
              "    }\n",
              "\n",
              "    .dataframe thead th {\n",
              "        text-align: right;\n",
              "    }\n",
              "</style>\n",
              "<table border=\"1\" class=\"dataframe\">\n",
              "  <thead>\n",
              "    <tr style=\"text-align: right;\">\n",
              "      <th></th>\n",
              "      <th>neg</th>\n",
              "      <th>neu</th>\n",
              "      <th>pos</th>\n",
              "      <th>compound</th>\n",
              "      <th>headlines</th>\n",
              "    </tr>\n",
              "  </thead>\n",
              "  <tbody>\n",
              "    <tr>\n",
              "      <th>0</th>\n",
              "      <td>0.000</td>\n",
              "      <td>1.000</td>\n",
              "      <td>0.000</td>\n",
              "      <td>0.0000</td>\n",
              "      <td>Frat Formal Advice</td>\n",
              "    </tr>\n",
              "    <tr>\n",
              "      <th>1</th>\n",
              "      <td>0.000</td>\n",
              "      <td>0.888</td>\n",
              "      <td>0.112</td>\n",
              "      <td>0.2263</td>\n",
              "      <td>Forest green lace dress - Ideas for warm layer...</td>\n",
              "    </tr>\n",
              "    <tr>\n",
              "      <th>2</th>\n",
              "      <td>0.000</td>\n",
              "      <td>0.769</td>\n",
              "      <td>0.231</td>\n",
              "      <td>0.2732</td>\n",
              "      <td>What heels would go well with this jumpsuit?</td>\n",
              "    </tr>\n",
              "    <tr>\n",
              "      <th>3</th>\n",
              "      <td>0.535</td>\n",
              "      <td>0.465</td>\n",
              "      <td>0.000</td>\n",
              "      <td>-0.3182</td>\n",
              "      <td>Confused about jewelry</td>\n",
              "    </tr>\n",
              "    <tr>\n",
              "      <th>4</th>\n",
              "      <td>0.000</td>\n",
              "      <td>1.000</td>\n",
              "      <td>0.000</td>\n",
              "      <td>0.0000</td>\n",
              "      <td>Everlane tiered mockneck dress alterations</td>\n",
              "    </tr>\n",
              "  </tbody>\n",
              "</table>\n",
              "</div>\n",
              "      <button class=\"colab-df-convert\" onclick=\"convertToInteractive('df-2e0f1c53-c750-4d57-b7f1-708c52a45ec5')\"\n",
              "              title=\"Convert this dataframe to an interactive table.\"\n",
              "              style=\"display:none;\">\n",
              "        \n",
              "  <svg xmlns=\"http://www.w3.org/2000/svg\" height=\"24px\"viewBox=\"0 0 24 24\"\n",
              "       width=\"24px\">\n",
              "    <path d=\"M0 0h24v24H0V0z\" fill=\"none\"/>\n",
              "    <path d=\"M18.56 5.44l.94 2.06.94-2.06 2.06-.94-2.06-.94-.94-2.06-.94 2.06-2.06.94zm-11 1L8.5 8.5l.94-2.06 2.06-.94-2.06-.94L8.5 2.5l-.94 2.06-2.06.94zm10 10l.94 2.06.94-2.06 2.06-.94-2.06-.94-.94-2.06-.94 2.06-2.06.94z\"/><path d=\"M17.41 7.96l-1.37-1.37c-.4-.4-.92-.59-1.43-.59-.52 0-1.04.2-1.43.59L10.3 9.45l-7.72 7.72c-.78.78-.78 2.05 0 2.83L4 21.41c.39.39.9.59 1.41.59.51 0 1.02-.2 1.41-.59l7.78-7.78 2.81-2.81c.8-.78.8-2.07 0-2.86zM5.41 20L4 18.59l7.72-7.72 1.47 1.35L5.41 20z\"/>\n",
              "  </svg>\n",
              "      </button>\n",
              "      \n",
              "  <style>\n",
              "    .colab-df-container {\n",
              "      display:flex;\n",
              "      flex-wrap:wrap;\n",
              "      gap: 12px;\n",
              "    }\n",
              "\n",
              "    .colab-df-convert {\n",
              "      background-color: #E8F0FE;\n",
              "      border: none;\n",
              "      border-radius: 50%;\n",
              "      cursor: pointer;\n",
              "      display: none;\n",
              "      fill: #1967D2;\n",
              "      height: 32px;\n",
              "      padding: 0 0 0 0;\n",
              "      width: 32px;\n",
              "    }\n",
              "\n",
              "    .colab-df-convert:hover {\n",
              "      background-color: #E2EBFA;\n",
              "      box-shadow: 0px 1px 2px rgba(60, 64, 67, 0.3), 0px 1px 3px 1px rgba(60, 64, 67, 0.15);\n",
              "      fill: #174EA6;\n",
              "    }\n",
              "\n",
              "    [theme=dark] .colab-df-convert {\n",
              "      background-color: #3B4455;\n",
              "      fill: #D2E3FC;\n",
              "    }\n",
              "\n",
              "    [theme=dark] .colab-df-convert:hover {\n",
              "      background-color: #434B5C;\n",
              "      box-shadow: 0px 1px 3px 1px rgba(0, 0, 0, 0.15);\n",
              "      filter: drop-shadow(0px 1px 2px rgba(0, 0, 0, 0.3));\n",
              "      fill: #FFFFFF;\n",
              "    }\n",
              "  </style>\n",
              "\n",
              "      <script>\n",
              "        const buttonEl =\n",
              "          document.querySelector('#df-2e0f1c53-c750-4d57-b7f1-708c52a45ec5 button.colab-df-convert');\n",
              "        buttonEl.style.display =\n",
              "          google.colab.kernel.accessAllowed ? 'block' : 'none';\n",
              "\n",
              "        async function convertToInteractive(key) {\n",
              "          const element = document.querySelector('#df-2e0f1c53-c750-4d57-b7f1-708c52a45ec5');\n",
              "          const dataTable =\n",
              "            await google.colab.kernel.invokeFunction('convertToInteractive',\n",
              "                                                     [key], {});\n",
              "          if (!dataTable) return;\n",
              "\n",
              "          const docLinkHtml = 'Like what you see? Visit the ' +\n",
              "            '<a target=\"_blank\" href=https://colab.research.google.com/notebooks/data_table.ipynb>data table notebook</a>'\n",
              "            + ' to learn more about interactive tables.';\n",
              "          element.innerHTML = '';\n",
              "          dataTable['output_type'] = 'display_data';\n",
              "          await google.colab.output.renderOutput(dataTable, element);\n",
              "          const docLink = document.createElement('div');\n",
              "          docLink.innerHTML = docLinkHtml;\n",
              "          element.appendChild(docLink);\n",
              "        }\n",
              "      </script>\n",
              "    </div>\n",
              "  </div>\n",
              "  "
            ]
          },
          "metadata": {},
          "execution_count": 15
        }
      ],
      "source": [
        "df = pd.DataFrame.from_records(results)\n",
        "df.head()"
      ]
    },
    {
      "cell_type": "code",
      "execution_count": null,
      "metadata": {
        "colab": {
          "base_uri": "https://localhost:8080/",
          "height": 206
        },
        "id": "fS5xuR0YOjuy",
        "outputId": "d7f6f06a-9252-44b3-845d-c843ea198113"
      },
      "outputs": [
        {
          "output_type": "execute_result",
          "data": {
            "text/plain": [
              "     neg    neu    pos  compound  \\\n",
              "0  0.000  1.000  0.000    0.0000   \n",
              "1  0.000  0.888  0.112    0.2263   \n",
              "2  0.000  0.769  0.231    0.2732   \n",
              "3  0.535  0.465  0.000   -0.3182   \n",
              "4  0.000  1.000  0.000    0.0000   \n",
              "\n",
              "                                           headlines  label  \n",
              "0                                 Frat Formal Advice      0  \n",
              "1  Forest green lace dress - Ideas for warm layer...      1  \n",
              "2       What heels would go well with this jumpsuit?      1  \n",
              "3                             Confused about jewelry     -1  \n",
              "4         Everlane tiered mockneck dress alterations      0  "
            ],
            "text/html": [
              "\n",
              "  <div id=\"df-46ae3853-e425-4366-9bb5-0bc6783ba5c4\">\n",
              "    <div class=\"colab-df-container\">\n",
              "      <div>\n",
              "<style scoped>\n",
              "    .dataframe tbody tr th:only-of-type {\n",
              "        vertical-align: middle;\n",
              "    }\n",
              "\n",
              "    .dataframe tbody tr th {\n",
              "        vertical-align: top;\n",
              "    }\n",
              "\n",
              "    .dataframe thead th {\n",
              "        text-align: right;\n",
              "    }\n",
              "</style>\n",
              "<table border=\"1\" class=\"dataframe\">\n",
              "  <thead>\n",
              "    <tr style=\"text-align: right;\">\n",
              "      <th></th>\n",
              "      <th>neg</th>\n",
              "      <th>neu</th>\n",
              "      <th>pos</th>\n",
              "      <th>compound</th>\n",
              "      <th>headlines</th>\n",
              "      <th>label</th>\n",
              "    </tr>\n",
              "  </thead>\n",
              "  <tbody>\n",
              "    <tr>\n",
              "      <th>0</th>\n",
              "      <td>0.000</td>\n",
              "      <td>1.000</td>\n",
              "      <td>0.000</td>\n",
              "      <td>0.0000</td>\n",
              "      <td>Frat Formal Advice</td>\n",
              "      <td>0</td>\n",
              "    </tr>\n",
              "    <tr>\n",
              "      <th>1</th>\n",
              "      <td>0.000</td>\n",
              "      <td>0.888</td>\n",
              "      <td>0.112</td>\n",
              "      <td>0.2263</td>\n",
              "      <td>Forest green lace dress - Ideas for warm layer...</td>\n",
              "      <td>1</td>\n",
              "    </tr>\n",
              "    <tr>\n",
              "      <th>2</th>\n",
              "      <td>0.000</td>\n",
              "      <td>0.769</td>\n",
              "      <td>0.231</td>\n",
              "      <td>0.2732</td>\n",
              "      <td>What heels would go well with this jumpsuit?</td>\n",
              "      <td>1</td>\n",
              "    </tr>\n",
              "    <tr>\n",
              "      <th>3</th>\n",
              "      <td>0.535</td>\n",
              "      <td>0.465</td>\n",
              "      <td>0.000</td>\n",
              "      <td>-0.3182</td>\n",
              "      <td>Confused about jewelry</td>\n",
              "      <td>-1</td>\n",
              "    </tr>\n",
              "    <tr>\n",
              "      <th>4</th>\n",
              "      <td>0.000</td>\n",
              "      <td>1.000</td>\n",
              "      <td>0.000</td>\n",
              "      <td>0.0000</td>\n",
              "      <td>Everlane tiered mockneck dress alterations</td>\n",
              "      <td>0</td>\n",
              "    </tr>\n",
              "  </tbody>\n",
              "</table>\n",
              "</div>\n",
              "      <button class=\"colab-df-convert\" onclick=\"convertToInteractive('df-46ae3853-e425-4366-9bb5-0bc6783ba5c4')\"\n",
              "              title=\"Convert this dataframe to an interactive table.\"\n",
              "              style=\"display:none;\">\n",
              "        \n",
              "  <svg xmlns=\"http://www.w3.org/2000/svg\" height=\"24px\"viewBox=\"0 0 24 24\"\n",
              "       width=\"24px\">\n",
              "    <path d=\"M0 0h24v24H0V0z\" fill=\"none\"/>\n",
              "    <path d=\"M18.56 5.44l.94 2.06.94-2.06 2.06-.94-2.06-.94-.94-2.06-.94 2.06-2.06.94zm-11 1L8.5 8.5l.94-2.06 2.06-.94-2.06-.94L8.5 2.5l-.94 2.06-2.06.94zm10 10l.94 2.06.94-2.06 2.06-.94-2.06-.94-.94-2.06-.94 2.06-2.06.94z\"/><path d=\"M17.41 7.96l-1.37-1.37c-.4-.4-.92-.59-1.43-.59-.52 0-1.04.2-1.43.59L10.3 9.45l-7.72 7.72c-.78.78-.78 2.05 0 2.83L4 21.41c.39.39.9.59 1.41.59.51 0 1.02-.2 1.41-.59l7.78-7.78 2.81-2.81c.8-.78.8-2.07 0-2.86zM5.41 20L4 18.59l7.72-7.72 1.47 1.35L5.41 20z\"/>\n",
              "  </svg>\n",
              "      </button>\n",
              "      \n",
              "  <style>\n",
              "    .colab-df-container {\n",
              "      display:flex;\n",
              "      flex-wrap:wrap;\n",
              "      gap: 12px;\n",
              "    }\n",
              "\n",
              "    .colab-df-convert {\n",
              "      background-color: #E8F0FE;\n",
              "      border: none;\n",
              "      border-radius: 50%;\n",
              "      cursor: pointer;\n",
              "      display: none;\n",
              "      fill: #1967D2;\n",
              "      height: 32px;\n",
              "      padding: 0 0 0 0;\n",
              "      width: 32px;\n",
              "    }\n",
              "\n",
              "    .colab-df-convert:hover {\n",
              "      background-color: #E2EBFA;\n",
              "      box-shadow: 0px 1px 2px rgba(60, 64, 67, 0.3), 0px 1px 3px 1px rgba(60, 64, 67, 0.15);\n",
              "      fill: #174EA6;\n",
              "    }\n",
              "\n",
              "    [theme=dark] .colab-df-convert {\n",
              "      background-color: #3B4455;\n",
              "      fill: #D2E3FC;\n",
              "    }\n",
              "\n",
              "    [theme=dark] .colab-df-convert:hover {\n",
              "      background-color: #434B5C;\n",
              "      box-shadow: 0px 1px 3px 1px rgba(0, 0, 0, 0.15);\n",
              "      filter: drop-shadow(0px 1px 2px rgba(0, 0, 0, 0.3));\n",
              "      fill: #FFFFFF;\n",
              "    }\n",
              "  </style>\n",
              "\n",
              "      <script>\n",
              "        const buttonEl =\n",
              "          document.querySelector('#df-46ae3853-e425-4366-9bb5-0bc6783ba5c4 button.colab-df-convert');\n",
              "        buttonEl.style.display =\n",
              "          google.colab.kernel.accessAllowed ? 'block' : 'none';\n",
              "\n",
              "        async function convertToInteractive(key) {\n",
              "          const element = document.querySelector('#df-46ae3853-e425-4366-9bb5-0bc6783ba5c4');\n",
              "          const dataTable =\n",
              "            await google.colab.kernel.invokeFunction('convertToInteractive',\n",
              "                                                     [key], {});\n",
              "          if (!dataTable) return;\n",
              "\n",
              "          const docLinkHtml = 'Like what you see? Visit the ' +\n",
              "            '<a target=\"_blank\" href=https://colab.research.google.com/notebooks/data_table.ipynb>data table notebook</a>'\n",
              "            + ' to learn more about interactive tables.';\n",
              "          element.innerHTML = '';\n",
              "          dataTable['output_type'] = 'display_data';\n",
              "          await google.colab.output.renderOutput(dataTable, element);\n",
              "          const docLink = document.createElement('div');\n",
              "          docLink.innerHTML = docLinkHtml;\n",
              "          element.appendChild(docLink);\n",
              "        }\n",
              "      </script>\n",
              "    </div>\n",
              "  </div>\n",
              "  "
            ]
          },
          "metadata": {},
          "execution_count": 16
        }
      ],
      "source": [
        "df['label'] = 0\n",
        "df.loc[df['compound'] > 0.2, 'label'] = 1\n",
        "df.loc[df['compound'] < -0.2, 'label'] = -1\n",
        "df.head()"
      ]
    },
    {
      "cell_type": "code",
      "execution_count": null,
      "metadata": {
        "colab": {
          "base_uri": "https://localhost:8080/"
        },
        "id": "EyvUkOsgO6TN",
        "outputId": "101a80a4-58dd-432c-b4d5-308ea09ce528"
      },
      "outputs": [
        {
          "output_type": "execute_result",
          "data": {
            "text/plain": [
              " 0    628\n",
              " 1    238\n",
              "-1     69\n",
              "Name: label, dtype: int64"
            ]
          },
          "metadata": {},
          "execution_count": 17
        }
      ],
      "source": [
        "#How many of each classification of comment (0=neutral, 1=positive, -1=negative)\n",
        "df.label.value_counts()"
      ]
    },
    {
      "cell_type": "code",
      "execution_count": null,
      "metadata": {
        "colab": {
          "base_uri": "https://localhost:8080/"
        },
        "id": "7FdJ1V7zPX4j",
        "outputId": "87bdda63-a0e4-4061-fcca-f947b7defe6b"
      },
      "outputs": [
        {
          "output_type": "execute_result",
          "data": {
            "text/plain": [
              " 0    67.165775\n",
              " 1    25.454545\n",
              "-1     7.379679\n",
              "Name: label, dtype: float64"
            ]
          },
          "metadata": {},
          "execution_count": 18
        }
      ],
      "source": [
        "#same data as previous cell, just in percentage form\n",
        "\n",
        "df.label.value_counts(normalize=True) * 100"
      ]
    },
    {
      "cell_type": "code",
      "execution_count": null,
      "metadata": {
        "colab": {
          "base_uri": "https://localhost:8080/"
        },
        "id": "C6UK3NOnPl_P",
        "outputId": "cf350529-fb7c-46e3-9108-145df92f8826"
      },
      "outputs": [
        {
          "output_type": "stream",
          "name": "stdout",
          "text": [
            "Positive:\n",
            "\n",
            "['Forest green lace dress - Ideas for warm layer to cover up for early spring wedding (guest)', 'What heels would go well with this jumpsuit?', 'Ok I have the opposite issue of the waist gap problem... help?!', 'Bunion friendly stylish shoes/sandals/boots', 'Which backpack is better to use for university?']\n",
            "Negative:\n",
            "\n",
            "['Confused about jewelry', 'Panty seams ALWAYS cut into area where my legs meet my torso. Rubs them raw.', 'How do I get over my fear of dressing \"too young\" for my age?', 'Mid sized beach fashion for someone who hates summer clothes', 'What is fast fashion? Can it realistically be avoided?']\n"
          ]
        }
      ],
      "source": [
        "#Let's see a few examples\n",
        "\n",
        "print('Positive:\\n')\n",
        "print(list(df[df['label'] == 1].headlines)[:5])\n",
        "\n",
        "print('Negative:\\n')\n",
        "print(list(df[df['label'] == -1].headlines)[:5])\n"
      ]
    },
    {
      "cell_type": "code",
      "execution_count": null,
      "metadata": {
        "colab": {
          "base_uri": "https://localhost:8080/",
          "height": 484
        },
        "id": "N_UFU-EwQHaD",
        "outputId": "e7b7d5a7-757e-44f8-9b8a-5b51767bf051"
      },
      "outputs": [
        {
          "output_type": "display_data",
          "data": {
            "text/plain": [
              "<Figure size 576x576 with 1 Axes>"
            ],
            "image/png": "[encoded data removed]"
          },
          "metadata": {
            "needs_background": "light"
          }
        }
      ],
      "source": [
        "fig, ax = plt.subplots(figsize=(8, 8))\n",
        "\n",
        "counts = df.label.value_counts(normalize=True) * 100\n",
        "sns.barplot(x=counts.index, y=counts, ax=ax)\n",
        "\n",
        "ax.set_xticklabels(['Negative', 'Neutral', 'Positive'])\n",
        "ax.set_ylabel('Percentage')\n",
        "\n",
        "plt.show()"
      ]
    }
  ],
  "metadata": {
    "colab": {
      "name": "Reddit Sentiment Analysis - General Fashion Subreddits",
      "provenance": []
    },
    "kernelspec": {
      "display_name": "Python 3",
      "name": "python3"
    },
    "language_info": {
      "name": "python"
    }
  },
  "nbformat": 4,
  "nbformat_minor": 0
}