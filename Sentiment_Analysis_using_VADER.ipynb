{
  "cells": [
    {
      "cell_type": "markdown",
      "metadata": {
        "id": "mTjbWIL8NmTL"
      },
      "source": [
        "## Sentiment Analysis\n",
        "VADER (Valence Aware Dictionary and sEntiment Reasoner) measures polarity and strength of emotion. It is specifically attuned to social media. Documentation here: https://github.com/cjhutto/vaderSentiment"
      ]
    },
    {
      "cell_type": "code",
      "source": [
        "from google.colab import drive\n",
        "drive.mount('/content/drive') "
      ],
      "metadata": {
        "colab": {
          "base_uri": "https://localhost:8080/"
        },
        "id": "CHjlg42rZL0u",
        "outputId": "5baaf5a7-f01f-488f-fd7d-985c92d30bdc"
      },
      "execution_count": null,
      "outputs": [
        {
          "output_type": "stream",
          "name": "stdout",
          "text": [
            "Drive already mounted at /content/drive; to attempt to forcibly remount, call drive.mount(\"/content/drive\", force_remount=True).\n"
          ]
        }
      ]
    },
    {
      "cell_type": "code",
      "execution_count": null,
      "metadata": {
        "id": "0X2eMYlcOVPI"
      },
      "outputs": [],
      "source": [
        "#install other libraries for performing analysis\n",
        "\n",
        "from pprint import pprint\n",
        "import pandas as pd\n",
        "import numpy as np\n",
        "import matplotlib.pyplot as plt\n",
        "import seaborn as sns \n",
        "import requests\n",
        "import json\n",
        "import csv\n",
        "import datetime"
      ]
    },
    {
      "cell_type": "markdown",
      "source": [
        "#List of subreddits\n",
        "<ul>\n",
        "<li>augmentedreality</li>\n",
        "<li>NFTsMarketplace</li>\n",
        "<li>TcgCoin</li>\n",
        "<li>NFT</li>\n",
        "<li>FreeNFTs</li>\n",
        "<li>ethtrader</li>\n",
        "<li>metaverse</li>\n",
        "<li>CryptoArt</li>\n",
        "<li>GravitySkins</li>\n",
        "<li>CLO3D</li>\n",
        "<li>DigitalFashion</li>\n",
        "</ul>\n",
        "\n",
        "#Terms to search\n",
        "<ul>\n",
        "<li>digital fashion</li>\n",
        "<li>virtual fashion</li>\n",
        "<li>vr fashion</li>\n",
        "<li>virtual reality fashion</li>\n",
        "<li>ar fashion</li>\n",
        "<li>nft fashion</li>\n",
        "<li>metaverse fashion</li>\n",
        "<li>metafashion</li>\n",
        "</ul>\n",
        "\n",
        "#Brands to search\n",
        "<ul>\n",
        "<li>dressx</li>\n",
        "<li>fortnite</li>\n",
        "<li>roblox</li>\n",
        "<li>opensea</li>\n",
        "<li>The Fabricant</li>\n",
        "<li>clo3d</li>\n",
        "<li>Auroboros</li>\n",
        "<li>Drest</li>\n",
        "<li>The Dematerialised</li>\n",
        "<li>XR Couture</li>\n",
        "</ul>"
      ],
      "metadata": {
        "id": "uOwJpxcij-uq"
      }
    },
    {
      "cell_type": "code",
      "source": [
        "#Pull data from csv\n",
        "reddit_dig_fashion_sentiment = pd.read_csv('/content/drive/MyDrive/Academic Research/Reddit_Analysis/Digital Fashion/csv files/combined_csv.csv')\n",
        "title = reddit_dig_fashion_sentiment['Title']\n",
        "\n",
        "print(title)"
      ],
      "metadata": {
        "colab": {
          "base_uri": "https://localhost:8080/"
        },
        "id": "6noYJ5G-YF1I",
        "outputId": "8884ecbd-4ae3-4429-f98b-a8b84a77befa"
      },
      "execution_count": null,
      "outputs": [
        {
          "output_type": "stream",
          "name": "stdout",
          "text": [
            "0      🌍TCG World News🌍 This week TCG World were invi...\n",
            "1      🥳Sunday...Monday Funday #NFTGiveaway 🥳 To cele...\n",
            "2      If you buy digital fashion to wear in AR, you ...\n",
            "3      I've minted a set of 3 interactive AR NFTs. Th...\n",
            "4      I'm creating AR fashion to sell as NFTs, but I...\n",
            "                             ...                        \n",
            "519                    Project: Fashion in the Metaverse\n",
            "520    Dolce and Gabbana’s Luxury Fashion NFT Collect...\n",
            "521    Join the Faceless Haute Couture Discord Server...\n",
            "522                             Digital Fashion Research\n",
            "523    Join the Faceless Haute Couture Discord Server...\n",
            "Name: Title, Length: 524, dtype: object\n"
          ]
        }
      ]
    },
    {
      "cell_type": "code",
      "execution_count": null,
      "metadata": {
        "colab": {
          "base_uri": "https://localhost:8080/"
        },
        "id": "3Xp9EB9oNVbl",
        "outputId": "92c2fdba-fb1c-4c38-c934-3abe2e2dbf06"
      },
      "outputs": [
        {
          "output_type": "stream",
          "name": "stdout",
          "text": [
            "[nltk_data] Downloading package vader_lexicon to /root/nltk_data...\n",
            "[nltk_data]   Package vader_lexicon is already up-to-date!\n"
          ]
        },
        {
          "output_type": "execute_result",
          "data": {
            "text/plain": [
              "True"
            ]
          },
          "metadata": {},
          "execution_count": 13
        }
      ],
      "source": [
        "import nltk\n",
        "nltk.download('vader_lexicon')"
      ]
    },
    {
      "cell_type": "code",
      "execution_count": null,
      "metadata": {
        "colab": {
          "base_uri": "https://localhost:8080/"
        },
        "id": "VP6XnxjCNm7T",
        "outputId": "0d1ebdf5-2bc6-406e-b22d-1c14fd5ffcb8"
      },
      "outputs": [
        {
          "output_type": "stream",
          "name": "stdout",
          "text": [
            "[{'neg': 0.0, 'neu': 0.863, 'pos': 0.137, 'compound': 0.7213, 'headlines': '🌍TCG World News🌍 This week TCG World were invited to a VIP Digital Fashion Launch Event hosted by Gravity The Studio in London. We created this TCG World Hub trailer to showcase how their Digital Fashion will look in the Metaverse. 🥳'}, {'neg': 0.0, 'neu': 0.816, 'pos': 0.184, 'compound': 0.7269, 'headlines': '🥳Sunday...Monday Funday #NFTGiveaway 🥳 To celebrate Gravity The Studio’s Digital Fashion #TCGWorld launch trailer we are giving away #virtualland 👐 👇Win a Silver Plot in the #Metaverse 👇 Head to Twitter to enter'}, {'neg': 0.0, 'neu': 0.812, 'pos': 0.188, 'compound': 0.7717, 'headlines': \"If you buy digital fashion to wear in AR, you want everybody to be able to view you and your virtual creation. But why own something, when it's freely available too? With this NFT that's solved: owners can pick a specific PIN number and customize one shirt https://www.hicetnunc.xyz/objkt/212631\"}, {'neg': 0.0, 'neu': 0.941, 'pos': 0.059, 'compound': 0.4404, 'headlines': \"I've minted a set of 3 interactive AR NFTs. They all refer to one online Snap AR lens which is freely accessible. But only the owner of the NFT can activate 2 drawing colors using the PIN code which can be found in the unlockable content of the NFT https://opensea.io/collection/interactive-fashion\"}, {'neg': 0.09, 'neu': 0.784, 'pos': 0.126, 'compound': 0.2755, 'headlines': 'I\\'m creating AR fashion to sell as NFTs, but I face a dilemma. Buyers of digital fashion want others to see what they\\'re wearing. But if anyone can activate the AR outfit anyway, why bother buying the NFT? I\\'m implementing \"manual PIN signalling\". But are there other, better (and privacy safe) ways?'}]\n"
          ]
        }
      ],
      "source": [
        "from nltk.sentiment.vader import SentimentIntensityAnalyzer as SIA\n",
        "\n",
        "sia = SIA()\n",
        "results = []\n",
        "\n",
        "for line in title: #change corpus here\n",
        "  pol_score = sia.polarity_scores(line)\n",
        "  pol_score['headlines'] = line\n",
        "  results.append(pol_score)\n",
        "\n",
        "print(results[:5])"
      ]
    },
    {
      "cell_type": "code",
      "execution_count": null,
      "metadata": {
        "colab": {
          "base_uri": "https://localhost:8080/",
          "height": 206
        },
        "id": "Bq1dWcJFOTHw",
        "outputId": "43fd42aa-c629-4ac4-ea1f-381107a71fd8"
      },
      "outputs": [
        {
          "output_type": "execute_result",
          "data": {
            "text/plain": [
              "    neg    neu    pos  compound  \\\n",
              "0  0.00  0.863  0.137    0.7213   \n",
              "1  0.00  0.816  0.184    0.7269   \n",
              "2  0.00  0.812  0.188    0.7717   \n",
              "3  0.00  0.941  0.059    0.4404   \n",
              "4  0.09  0.784  0.126    0.2755   \n",
              "\n",
              "                                           headlines  \n",
              "0  🌍TCG World News🌍 This week TCG World were invi...  \n",
              "1  🥳Sunday...Monday Funday #NFTGiveaway 🥳 To cele...  \n",
              "2  If you buy digital fashion to wear in AR, you ...  \n",
              "3  I've minted a set of 3 interactive AR NFTs. Th...  \n",
              "4  I'm creating AR fashion to sell as NFTs, but I...  "
            ],
            "text/html": [
              "\n",
              "  <div id=\"df-d132b885-3a08-4254-9360-68860530adaa\">\n",
              "    <div class=\"colab-df-container\">\n",
              "      <div>\n",
              "<style scoped>\n",
              "    .dataframe tbody tr th:only-of-type {\n",
              "        vertical-align: middle;\n",
              "    }\n",
              "\n",
              "    .dataframe tbody tr th {\n",
              "        vertical-align: top;\n",
              "    }\n",
              "\n",
              "    .dataframe thead th {\n",
              "        text-align: right;\n",
              "    }\n",
              "</style>\n",
              "<table border=\"1\" class=\"dataframe\">\n",
              "  <thead>\n",
              "    <tr style=\"text-align: right;\">\n",
              "      <th></th>\n",
              "      <th>neg</th>\n",
              "      <th>neu</th>\n",
              "      <th>pos</th>\n",
              "      <th>compound</th>\n",
              "      <th>headlines</th>\n",
              "    </tr>\n",
              "  </thead>\n",
              "  <tbody>\n",
              "    <tr>\n",
              "      <th>0</th>\n",
              "      <td>0.00</td>\n",
              "      <td>0.863</td>\n",
              "      <td>0.137</td>\n",
              "      <td>0.7213</td>\n",
              "      <td>🌍TCG World News🌍 This week TCG World were invi...</td>\n",
              "    </tr>\n",
              "    <tr>\n",
              "      <th>1</th>\n",
              "      <td>0.00</td>\n",
              "      <td>0.816</td>\n",
              "      <td>0.184</td>\n",
              "      <td>0.7269</td>\n",
              "      <td>🥳Sunday...Monday Funday #NFTGiveaway 🥳 To cele...</td>\n",
              "    </tr>\n",
              "    <tr>\n",
              "      <th>2</th>\n",
              "      <td>0.00</td>\n",
              "      <td>0.812</td>\n",
              "      <td>0.188</td>\n",
              "      <td>0.7717</td>\n",
              "      <td>If you buy digital fashion to wear in AR, you ...</td>\n",
              "    </tr>\n",
              "    <tr>\n",
              "      <th>3</th>\n",
              "      <td>0.00</td>\n",
              "      <td>0.941</td>\n",
              "      <td>0.059</td>\n",
              "      <td>0.4404</td>\n",
              "      <td>I've minted a set of 3 interactive AR NFTs. Th...</td>\n",
              "    </tr>\n",
              "    <tr>\n",
              "      <th>4</th>\n",
              "      <td>0.09</td>\n",
              "      <td>0.784</td>\n",
              "      <td>0.126</td>\n",
              "      <td>0.2755</td>\n",
              "      <td>I'm creating AR fashion to sell as NFTs, but I...</td>\n",
              "    </tr>\n",
              "  </tbody>\n",
              "</table>\n",
              "</div>\n",
              "      <button class=\"colab-df-convert\" onclick=\"convertToInteractive('df-d132b885-3a08-4254-9360-68860530adaa')\"\n",
              "              title=\"Convert this dataframe to an interactive table.\"\n",
              "              style=\"display:none;\">\n",
              "        \n",
              "  <svg xmlns=\"http://www.w3.org/2000/svg\" height=\"24px\"viewBox=\"0 0 24 24\"\n",
              "       width=\"24px\">\n",
              "    <path d=\"M0 0h24v24H0V0z\" fill=\"none\"/>\n",
              "    <path d=\"M18.56 5.44l.94 2.06.94-2.06 2.06-.94-2.06-.94-.94-2.06-.94 2.06-2.06.94zm-11 1L8.5 8.5l.94-2.06 2.06-.94-2.06-.94L8.5 2.5l-.94 2.06-2.06.94zm10 10l.94 2.06.94-2.06 2.06-.94-2.06-.94-.94-2.06-.94 2.06-2.06.94z\"/><path d=\"M17.41 7.96l-1.37-1.37c-.4-.4-.92-.59-1.43-.59-.52 0-1.04.2-1.43.59L10.3 9.45l-7.72 7.72c-.78.78-.78 2.05 0 2.83L4 21.41c.39.39.9.59 1.41.59.51 0 1.02-.2 1.41-.59l7.78-7.78 2.81-2.81c.8-.78.8-2.07 0-2.86zM5.41 20L4 18.59l7.72-7.72 1.47 1.35L5.41 20z\"/>\n",
              "  </svg>\n",
              "      </button>\n",
              "      \n",
              "  <style>\n",
              "    .colab-df-container {\n",
              "      display:flex;\n",
              "      flex-wrap:wrap;\n",
              "      gap: 12px;\n",
              "    }\n",
              "\n",
              "    .colab-df-convert {\n",
              "      background-color: #E8F0FE;\n",
              "      border: none;\n",
              "      border-radius: 50%;\n",
              "      cursor: pointer;\n",
              "      display: none;\n",
              "      fill: #1967D2;\n",
              "      height: 32px;\n",
              "      padding: 0 0 0 0;\n",
              "      width: 32px;\n",
              "    }\n",
              "\n",
              "    .colab-df-convert:hover {\n",
              "      background-color: #E2EBFA;\n",
              "      box-shadow: 0px 1px 2px rgba(60, 64, 67, 0.3), 0px 1px 3px 1px rgba(60, 64, 67, 0.15);\n",
              "      fill: #174EA6;\n",
              "    }\n",
              "\n",
              "    [theme=dark] .colab-df-convert {\n",
              "      background-color: #3B4455;\n",
              "      fill: #D2E3FC;\n",
              "    }\n",
              "\n",
              "    [theme=dark] .colab-df-convert:hover {\n",
              "      background-color: #434B5C;\n",
              "      box-shadow: 0px 1px 3px 1px rgba(0, 0, 0, 0.15);\n",
              "      filter: drop-shadow(0px 1px 2px rgba(0, 0, 0, 0.3));\n",
              "      fill: #FFFFFF;\n",
              "    }\n",
              "  </style>\n",
              "\n",
              "      <script>\n",
              "        const buttonEl =\n",
              "          document.querySelector('#df-d132b885-3a08-4254-9360-68860530adaa button.colab-df-convert');\n",
              "        buttonEl.style.display =\n",
              "          google.colab.kernel.accessAllowed ? 'block' : 'none';\n",
              "\n",
              "        async function convertToInteractive(key) {\n",
              "          const element = document.querySelector('#df-d132b885-3a08-4254-9360-68860530adaa');\n",
              "          const dataTable =\n",
              "            await google.colab.kernel.invokeFunction('convertToInteractive',\n",
              "                                                     [key], {});\n",
              "          if (!dataTable) return;\n",
              "\n",
              "          const docLinkHtml = 'Like what you see? Visit the ' +\n",
              "            '<a target=\"_blank\" href=https://colab.research.google.com/notebooks/data_table.ipynb>data table notebook</a>'\n",
              "            + ' to learn more about interactive tables.';\n",
              "          element.innerHTML = '';\n",
              "          dataTable['output_type'] = 'display_data';\n",
              "          await google.colab.output.renderOutput(dataTable, element);\n",
              "          const docLink = document.createElement('div');\n",
              "          docLink.innerHTML = docLinkHtml;\n",
              "          element.appendChild(docLink);\n",
              "        }\n",
              "      </script>\n",
              "    </div>\n",
              "  </div>\n",
              "  "
            ]
          },
          "metadata": {},
          "execution_count": 15
        }
      ],
      "source": [
        "df = pd.DataFrame.from_records(results)\n",
        "df.head()"
      ]
    },
    {
      "cell_type": "code",
      "execution_count": null,
      "metadata": {
        "colab": {
          "base_uri": "https://localhost:8080/",
          "height": 206
        },
        "id": "fS5xuR0YOjuy",
        "outputId": "47a61451-9325-428f-e834-2defa23dd700"
      },
      "outputs": [
        {
          "output_type": "execute_result",
          "data": {
            "text/plain": [
              "    neg    neu    pos  compound  \\\n",
              "0  0.00  0.863  0.137    0.7213   \n",
              "1  0.00  0.816  0.184    0.7269   \n",
              "2  0.00  0.812  0.188    0.7717   \n",
              "3  0.00  0.941  0.059    0.4404   \n",
              "4  0.09  0.784  0.126    0.2755   \n",
              "\n",
              "                                           headlines  label  \n",
              "0  🌍TCG World News🌍 This week TCG World were invi...      1  \n",
              "1  🥳Sunday...Monday Funday #NFTGiveaway 🥳 To cele...      1  \n",
              "2  If you buy digital fashion to wear in AR, you ...      1  \n",
              "3  I've minted a set of 3 interactive AR NFTs. Th...      1  \n",
              "4  I'm creating AR fashion to sell as NFTs, but I...      1  "
            ],
            "text/html": [
              "\n",
              "  <div id=\"df-5f09b5a6-a7b7-4080-ab37-970c045eb81a\">\n",
              "    <div class=\"colab-df-container\">\n",
              "      <div>\n",
              "<style scoped>\n",
              "    .dataframe tbody tr th:only-of-type {\n",
              "        vertical-align: middle;\n",
              "    }\n",
              "\n",
              "    .dataframe tbody tr th {\n",
              "        vertical-align: top;\n",
              "    }\n",
              "\n",
              "    .dataframe thead th {\n",
              "        text-align: right;\n",
              "    }\n",
              "</style>\n",
              "<table border=\"1\" class=\"dataframe\">\n",
              "  <thead>\n",
              "    <tr style=\"text-align: right;\">\n",
              "      <th></th>\n",
              "      <th>neg</th>\n",
              "      <th>neu</th>\n",
              "      <th>pos</th>\n",
              "      <th>compound</th>\n",
              "      <th>headlines</th>\n",
              "      <th>label</th>\n",
              "    </tr>\n",
              "  </thead>\n",
              "  <tbody>\n",
              "    <tr>\n",
              "      <th>0</th>\n",
              "      <td>0.00</td>\n",
              "      <td>0.863</td>\n",
              "      <td>0.137</td>\n",
              "      <td>0.7213</td>\n",
              "      <td>🌍TCG World News🌍 This week TCG World were invi...</td>\n",
              "      <td>1</td>\n",
              "    </tr>\n",
              "    <tr>\n",
              "      <th>1</th>\n",
              "      <td>0.00</td>\n",
              "      <td>0.816</td>\n",
              "      <td>0.184</td>\n",
              "      <td>0.7269</td>\n",
              "      <td>🥳Sunday...Monday Funday #NFTGiveaway 🥳 To cele...</td>\n",
              "      <td>1</td>\n",
              "    </tr>\n",
              "    <tr>\n",
              "      <th>2</th>\n",
              "      <td>0.00</td>\n",
              "      <td>0.812</td>\n",
              "      <td>0.188</td>\n",
              "      <td>0.7717</td>\n",
              "      <td>If you buy digital fashion to wear in AR, you ...</td>\n",
              "      <td>1</td>\n",
              "    </tr>\n",
              "    <tr>\n",
              "      <th>3</th>\n",
              "      <td>0.00</td>\n",
              "      <td>0.941</td>\n",
              "      <td>0.059</td>\n",
              "      <td>0.4404</td>\n",
              "      <td>I've minted a set of 3 interactive AR NFTs. Th...</td>\n",
              "      <td>1</td>\n",
              "    </tr>\n",
              "    <tr>\n",
              "      <th>4</th>\n",
              "      <td>0.09</td>\n",
              "      <td>0.784</td>\n",
              "      <td>0.126</td>\n",
              "      <td>0.2755</td>\n",
              "      <td>I'm creating AR fashion to sell as NFTs, but I...</td>\n",
              "      <td>1</td>\n",
              "    </tr>\n",
              "  </tbody>\n",
              "</table>\n",
              "</div>\n",
              "      <button class=\"colab-df-convert\" onclick=\"convertToInteractive('df-5f09b5a6-a7b7-4080-ab37-970c045eb81a')\"\n",
              "              title=\"Convert this dataframe to an interactive table.\"\n",
              "              style=\"display:none;\">\n",
              "        \n",
              "  <svg xmlns=\"http://www.w3.org/2000/svg\" height=\"24px\"viewBox=\"0 0 24 24\"\n",
              "       width=\"24px\">\n",
              "    <path d=\"M0 0h24v24H0V0z\" fill=\"none\"/>\n",
              "    <path d=\"M18.56 5.44l.94 2.06.94-2.06 2.06-.94-2.06-.94-.94-2.06-.94 2.06-2.06.94zm-11 1L8.5 8.5l.94-2.06 2.06-.94-2.06-.94L8.5 2.5l-.94 2.06-2.06.94zm10 10l.94 2.06.94-2.06 2.06-.94-2.06-.94-.94-2.06-.94 2.06-2.06.94z\"/><path d=\"M17.41 7.96l-1.37-1.37c-.4-.4-.92-.59-1.43-.59-.52 0-1.04.2-1.43.59L10.3 9.45l-7.72 7.72c-.78.78-.78 2.05 0 2.83L4 21.41c.39.39.9.59 1.41.59.51 0 1.02-.2 1.41-.59l7.78-7.78 2.81-2.81c.8-.78.8-2.07 0-2.86zM5.41 20L4 18.59l7.72-7.72 1.47 1.35L5.41 20z\"/>\n",
              "  </svg>\n",
              "      </button>\n",
              "      \n",
              "  <style>\n",
              "    .colab-df-container {\n",
              "      display:flex;\n",
              "      flex-wrap:wrap;\n",
              "      gap: 12px;\n",
              "    }\n",
              "\n",
              "    .colab-df-convert {\n",
              "      background-color: #E8F0FE;\n",
              "      border: none;\n",
              "      border-radius: 50%;\n",
              "      cursor: pointer;\n",
              "      display: none;\n",
              "      fill: #1967D2;\n",
              "      height: 32px;\n",
              "      padding: 0 0 0 0;\n",
              "      width: 32px;\n",
              "    }\n",
              "\n",
              "    .colab-df-convert:hover {\n",
              "      background-color: #E2EBFA;\n",
              "      box-shadow: 0px 1px 2px rgba(60, 64, 67, 0.3), 0px 1px 3px 1px rgba(60, 64, 67, 0.15);\n",
              "      fill: #174EA6;\n",
              "    }\n",
              "\n",
              "    [theme=dark] .colab-df-convert {\n",
              "      background-color: #3B4455;\n",
              "      fill: #D2E3FC;\n",
              "    }\n",
              "\n",
              "    [theme=dark] .colab-df-convert:hover {\n",
              "      background-color: #434B5C;\n",
              "      box-shadow: 0px 1px 3px 1px rgba(0, 0, 0, 0.15);\n",
              "      filter: drop-shadow(0px 1px 2px rgba(0, 0, 0, 0.3));\n",
              "      fill: #FFFFFF;\n",
              "    }\n",
              "  </style>\n",
              "\n",
              "      <script>\n",
              "        const buttonEl =\n",
              "          document.querySelector('#df-5f09b5a6-a7b7-4080-ab37-970c045eb81a button.colab-df-convert');\n",
              "        buttonEl.style.display =\n",
              "          google.colab.kernel.accessAllowed ? 'block' : 'none';\n",
              "\n",
              "        async function convertToInteractive(key) {\n",
              "          const element = document.querySelector('#df-5f09b5a6-a7b7-4080-ab37-970c045eb81a');\n",
              "          const dataTable =\n",
              "            await google.colab.kernel.invokeFunction('convertToInteractive',\n",
              "                                                     [key], {});\n",
              "          if (!dataTable) return;\n",
              "\n",
              "          const docLinkHtml = 'Like what you see? Visit the ' +\n",
              "            '<a target=\"_blank\" href=https://colab.research.google.com/notebooks/data_table.ipynb>data table notebook</a>'\n",
              "            + ' to learn more about interactive tables.';\n",
              "          element.innerHTML = '';\n",
              "          dataTable['output_type'] = 'display_data';\n",
              "          await google.colab.output.renderOutput(dataTable, element);\n",
              "          const docLink = document.createElement('div');\n",
              "          docLink.innerHTML = docLinkHtml;\n",
              "          element.appendChild(docLink);\n",
              "        }\n",
              "      </script>\n",
              "    </div>\n",
              "  </div>\n",
              "  "
            ]
          },
          "metadata": {},
          "execution_count": 16
        }
      ],
      "source": [
        "df['label'] = 0\n",
        "df.loc[df['compound'] > 0.2, 'label'] = 1\n",
        "df.loc[df['compound'] < -0.2, 'label'] = -1\n",
        "df.head()"
      ]
    },
    {
      "cell_type": "code",
      "execution_count": null,
      "metadata": {
        "colab": {
          "base_uri": "https://localhost:8080/"
        },
        "id": "EyvUkOsgO6TN",
        "outputId": "0106df79-d1d4-4c23-c16b-88277cd00818"
      },
      "outputs": [
        {
          "output_type": "execute_result",
          "data": {
            "text/plain": [
              " 0    280\n",
              " 1    204\n",
              "-1     40\n",
              "Name: label, dtype: int64"
            ]
          },
          "metadata": {},
          "execution_count": 17
        }
      ],
      "source": [
        "#How many of each classification of comment (0=neutral, 1=positive, -1=negative)\n",
        "df.label.value_counts()"
      ]
    },
    {
      "cell_type": "code",
      "execution_count": null,
      "metadata": {
        "colab": {
          "base_uri": "https://localhost:8080/"
        },
        "id": "7FdJ1V7zPX4j",
        "outputId": "c3038054-45e2-438d-b536-6a9a14d8f5a4"
      },
      "outputs": [
        {
          "output_type": "execute_result",
          "data": {
            "text/plain": [
              " 0    53.435115\n",
              " 1    38.931298\n",
              "-1     7.633588\n",
              "Name: label, dtype: float64"
            ]
          },
          "metadata": {},
          "execution_count": 18
        }
      ],
      "source": [
        "#same data as previous cell, just in percentage form\n",
        "\n",
        "df.label.value_counts(normalize=True) * 100"
      ]
    },
    {
      "cell_type": "code",
      "execution_count": null,
      "metadata": {
        "colab": {
          "base_uri": "https://localhost:8080/"
        },
        "id": "C6UK3NOnPl_P",
        "outputId": "22f52712-b293-43e6-c00a-1e6725d72e47"
      },
      "outputs": [
        {
          "output_type": "stream",
          "name": "stdout",
          "text": [
            "Positive:\n",
            "\n",
            "['🌍TCG World News🌍 This week TCG World were invited to a VIP Digital Fashion Launch Event hosted by Gravity The Studio in London. We created this TCG World Hub trailer to showcase how their Digital Fashion will look in the Metaverse. 🥳', '🥳Sunday...Monday Funday #NFTGiveaway 🥳 To celebrate Gravity The Studio’s Digital Fashion #TCGWorld launch trailer we are giving away #virtualland 👐 👇Win a Silver Plot in the #Metaverse 👇 Head to Twitter to enter', \"If you buy digital fashion to wear in AR, you want everybody to be able to view you and your virtual creation. But why own something, when it's freely available too? With this NFT that's solved: owners can pick a specific PIN number and customize one shirt https://www.hicetnunc.xyz/objkt/212631\", \"I've minted a set of 3 interactive AR NFTs. They all refer to one online Snap AR lens which is freely accessible. But only the owner of the NFT can activate 2 drawing colors using the PIN code which can be found in the unlockable content of the NFT https://opensea.io/collection/interactive-fashion\", 'I\\'m creating AR fashion to sell as NFTs, but I face a dilemma. Buyers of digital fashion want others to see what they\\'re wearing. But if anyone can activate the AR outfit anyway, why bother buying the NFT? I\\'m implementing \"manual PIN signalling\". But are there other, better (and privacy safe) ways?']\n",
            "Negative:\n",
            "\n",
            "[\"Do you recognize this problem? You're trying the latest interactive AR fashion app. The virtual outfit looks great, but then what? Walk? Turn? Move your arms? After a while it feels a bit shallow if nothing significant happens. Does it make sense to add a bit of interaction to virtual fashion?\", '!! metaverse fashion week !! SHOP TILL YOU DROP!!!', 'French fashion house uses NFC (near-field communication) to link garments to unique digital NFT assets', 'Portrait of Famed Fashion Designer Virgil Abloh by Pop Culture Artist Rob Prior and its 1:1 NFT sold for $1 Million at Art Basel Miami', 'Portrait of Famed Fashion Designer Virgil Abloh by Pop Culture Artist Rob Prior and Its 1:1 NFT Sold for $1 Million at Art Basel Miami']\n"
          ]
        }
      ],
      "source": [
        "#Let's see a few examples\n",
        "\n",
        "print('Positive:\\n')\n",
        "print(list(df[df['label'] == 1].headlines)[:5])\n",
        "\n",
        "print('Negative:\\n')\n",
        "print(list(df[df['label'] == -1].headlines)[:5])\n"
      ]
    },
    {
      "cell_type": "code",
      "execution_count": null,
      "metadata": {
        "colab": {
          "base_uri": "https://localhost:8080/",
          "height": 557
        },
        "id": "N_UFU-EwQHaD",
        "outputId": "bdb03c48-f47c-4a18-c97f-6a9492ded2d1"
      },
      "outputs": [
        {
          "output_type": "execute_result",
          "data": {
            "text/plain": [
              "Text(0.5, 0, 'Sentiment')"
            ]
          },
          "metadata": {},
          "execution_count": 20
        },
        {
          "output_type": "display_data",
          "data": {
            "text/plain": [
              "<Figure size 576x576 with 1 Axes>"
            ],
            "image/png": "[encoded data removed]"
          },
          "metadata": {
            "needs_background": "light"
          }
        }
      ],
      "source": [
        "fig, ax = plt.subplots(figsize=(8, 8))\n",
        "\n",
        "counts = df.label.value_counts(normalize=True) * 100\n",
        "sns.barplot(x=counts.index, y=counts, ax=ax)\n",
        "\n",
        "ax.set_xticklabels(['Negative', 'Neutral', 'Positive'], rotation=30)\n",
        "ax.set_ylabel('Percentage', fontsize=16, labelpad=20)\n",
        "ax.set_xlabel('Sentiment', fontsize=16, labelpad=20)"
      ]
    },
    {
      "cell_type": "code",
      "source": [
        "#convert dataframe to array so it can be saved to google sheet\n",
        "convert = posts.to_numpy().tolist()\n",
        "headers = posts.columns.to_list()\n",
        "data_to_write = [headers] + convert\n",
        "print(data_to_write)"
      ],
      "metadata": {
        "colab": {
          "base_uri": "https://localhost:8080/"
        },
        "id": "AjqsJ3GxnDu6",
        "outputId": "c0aa7e2e-8f75-464c-fd46-991e8a1cfd16"
      },
      "execution_count": null,
      "outputs": [
        {
          "output_type": "stream",
          "name": "stdout",
          "text": [
            "[['Title', 'Score', 'Number of Comments', 'Submission Text', 'Date Created', 'ID'], ['Looking for Digital Fashion Enthusiasts to take a 10 min survey - https://arts.eu.qualtrics.com/jfe/form/SV_5bzU8MzYuVwQzZk', 1, 0, \"Hi Everyone, I am in my final year at university and for my dissertation I am conducting research on individual personalities and digital fashion use. I aim to see if theres a trend in the 'type' of person who would be more likely to consume and interact with digital fashion than those who may not. I am also looking for both males and females so I can see if there's any gender differences as stereotypically fashion research has always been aimed at females. All the requirements are that you have *an interest in physical fashion* **and/ or** *have bought digital fashion* (this can also include game skins). You must be 18-35 years of age. If you are interested in what this research is about more in depth please see the link attached for Participant Information.  \\n\\nLink to Survey (approx 10 mins) - [https://arts.eu.qualtrics.com/jfe/form/SV\\\\_5bzU8MzYuVwQzZk](https://arts.eu.qualtrics.com/jfe/form/SV_5bzU8MzYuVwQzZk)\\n\\nLink to Participant Information Sheet - [https://docs.google.com/document/d/1EMNdLdEObuhyf2K\\\\_TrGka9MDCWPLmpBKeWLYM3ZuL9s/edit?usp=sharing](https://docs.google.com/document/d/1EMNdLdEObuhyf2K_TrGka9MDCWPLmpBKeWLYM3ZuL9s/edit?usp=sharing)\\n\\nThank you in advance for your participation I really appreciate it!!\", 1650884868.0, 'ubil0c'], ['Seeking Digital Fashion Artist', 2, 0, 'Hey everyone! \\n\\nI’m looking to hire a digital fashion artist. If you’re interested, reach out and we can discuss. :)', 1649267397.0, 'txrx0w'], ['What is the future of digital fashion?', 3, 0, ' \\n\\nHello everyone, my name is Ani.\\n\\nI am currently investigating the topic of digital/virtual fashion and its future potential. Could you please take a couple of minutes to let me know what you think about this industry by filling out my survey. I would appreciate it tremendously!\\n\\nI am really passionate about using virtual clothing to reduce the environmental footprint of brands and having more fun while shopping.\\n\\nSurvey:\\xa0[https://forms.gle/tZy5WfVYmZ5gdSGK9](https://forms.gle/tZy5WfVYmZ5gdSGK9)', 1647476232.0, 'tfx8er'], ['Hi guys! We are a digital fashion NFT platform and we just opened a store in Decentraland! We would love if you would check it out 🤗 the coordinates are 63,0 and also if you want to know more about us feel free to visit our page StyleXchange.io see you there! 🤩', 1, 0, '', 1646393723.0, 't6h0y2'], ['Trailer for our upcoming AR digital fashion app, METADRIP', 1, 3, '', 1645078499.0, 'suht8h'], ['Sense - immaterial Reality is bringing an inner certainty about what will come next in the \"new normal\" world of the fabric industry at the 34th edition of Milano Unica. Let’s meet in Rho Fiera Milano to discuss the latest innovative solutions.', 1, 0, '', 1643709072.0, 'shr99s'], ['Exciting event happening today! All are welcome :) Metaverse Fashion & Avatars Meetup #2', 1, 0, '', 1643289683.0, 'sdy9qv'], ['Immaterial Reality can help companies to achieve their sustainability goals. We offer a simple and effective solution that aims to become the new normal! Be sustainable with Sense.', 1, 0, '', 1643281689.0, 'sdvz1w'], ['digital fashion survey', 2, 0, 'Hello, I am doing a study on digital fashion on social networks and in video games for my school.\\n\\nIt would be great if you could answer this survey! It only takes a few minutes.\\n\\n [http://ieseg.az1.qualtrics.com/jfe/form/SV\\\\_83cL70cOHQeJjBs](http://ieseg.az1.qualtrics.com/jfe/form/SV_83cL70cOHQeJjBs)  \\n \\n\\nThanks', 1638099048.0, 'r42d0r'], ['Ateliar app', 3, 0, 'Hey guys I have been interested in digital fashion for a while now and I was browsing Instagram earlier and came across a page called Ateliar. Apparently they are making an app in the space and I was wondering if anyone had come across it and their thoughts?', 1638074373.0, 'r3vz63'], ['Our mission is to support companies in the digital transformation journey and improve their level of sustainability with innovative technologies. Throughout CFS+, 7-8 October 2021, you will be able to explore and connect with us among the other 40 leading sustainable solution providers.', 3, 0, '', 1633525272.0, 'q2jz1l'], ['Digital Fashion news subreddits?', 2, 1, \"I know there's only like 4 of us in here but do you know any subs that focus on news about digital fashion?\", 1633056787.0, 'pyz0ri'], ['How to dive into digital fashion', 2, 2, \"Hi everyone, \\n\\nI'm a fashion designer and I got very interested in the topic of digital fashion lately. I have done my research but I haven't really found the perfect place to start. Do you guys maybe have some tips? What softwares do you recommend? Is there maybe a good online course or book for beginners? \\n\\nThanks for your help!\", 1632654721.0, 'pvrun0'], ['Ah, summer 🏖 We could wax poetic about how restorative a dose of warm weather has been, but instead, have a look at our summer fashion story that is free from the constraints of the material world. The art of innovation never stops. Stay tuned!', 2, 0, '', 1631874846.0, 'ppxn7l']]\n"
          ]
        }
      ]
    },
    {
      "cell_type": "code",
      "source": [
        "#save data to google sheet\n",
        "\n",
        "from google.colab import auth\n",
        "auth.authenticate_user()\n",
        "\n",
        "import gspread\n",
        "from google.auth import default\n",
        "creds, _ = default()\n",
        "\n",
        "gc = gspread.authorize(creds)\n",
        "\n",
        "#sh = gc.create('Digital Fashion Conversation')\n",
        "\n",
        "# Open our new sheet and add some data.\n",
        "wb = gc.open_by_key('1npXfKIBmmqNQbKaXvC0e_pWTMSumd3IgcRTijV9vDHk')\n",
        "\n",
        "ws = wb.worksheet('Digital Fashion Subreddit')\n",
        "\n",
        "#cell_list = ws.range('A1:C2')\n",
        "\n",
        "#import random\n",
        "#for cell in cell_list:\n",
        "#  cell.value = random.randint(1, 10)\n",
        "\n",
        "#worksheet.update_cells(cell_list)\n",
        "# Go to https://sheets.google.com to see your new spreadsheet."
      ],
      "metadata": {
        "id": "AdwYaxmrgtxu"
      },
      "execution_count": null,
      "outputs": []
    },
    {
      "cell_type": "code",
      "source": [
        "ws = wb.worksheet('Digital Fashion Subreddit')\n",
        "ws.update(None, data_to_write)"
      ],
      "metadata": {
        "colab": {
          "base_uri": "https://localhost:8080/"
        },
        "id": "USuUzG4prKXE",
        "outputId": "04890653-b264-4c14-a190-3ddf6ab0015b"
      },
      "execution_count": null,
      "outputs": [
        {
          "output_type": "execute_result",
          "data": {
            "text/plain": [
              "{'spreadsheetId': '1npXfKIBmmqNQbKaXvC0e_pWTMSumd3IgcRTijV9vDHk',\n",
              " 'updatedCells': 90,\n",
              " 'updatedColumns': 6,\n",
              " 'updatedRange': \"'Digital Fashion Subreddit'!A1:F15\",\n",
              " 'updatedRows': 15}"
            ]
          },
          "metadata": {},
          "execution_count": 44
        }
      ]
    }
  ],
  "metadata": {
    "colab": {
      "name": "Sentiment Analysis using VADER",
      "provenance": []
    },
    "kernelspec": {
      "display_name": "Python 3",
      "name": "python3"
    },
    "language_info": {
      "name": "python"
    }
  },
  "nbformat": 4,
  "nbformat_minor": 0
}