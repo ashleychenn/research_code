{
  "nbformat": 4,
  "nbformat_minor": 0,
  "metadata": {
    "colab": {
      "provenance": [],
      "authorship_tag": "ABX9TyO6cmuT0S1N2qjRNMboVhzj",
      "include_colab_link": true
    },
    "kernelspec": {
      "name": "python3",
      "display_name": "Python 3"
    },
    "language_info": {
      "name": "python"
    }
  },
  "cells": [
    {
      "cell_type": "markdown",
      "metadata": {
        "id": "view-in-github",
        "colab_type": "text"
      },
      "source": [
        "<a href=\"https://colab.research.google.com/github/ashleychenn/research_code/blob/main/Random_Forest_Classifier.ipynb\" target=\"_parent\"><img src=\"https://colab.research.google.com/assets/colab-badge.svg\" alt=\"Open In Colab\"/></a>"
      ]
    },
    {
      "cell_type": "markdown",
      "source": [
        "This model uses data from [this UCI machine learning repository](https://archive.ics.uci.edu/ml/datasets/census%20income) containing income data from Census data"
      ],
      "metadata": {
        "id": "_WLpTKh43LT0"
      }
    },
    {
      "cell_type": "code",
      "execution_count": null,
      "metadata": {
        "id": "uzUQossV2jyJ"
      },
      "outputs": [],
      "source": [
        "from google.colab import drive\n",
        "drive.mount('/content/gdrive')"
      ]
    },
    {
      "cell_type": "code",
      "source": [
        "import pandas as pd\n",
        "from sklearn.model_selection import train_test_split\n",
        "from sklearn import tree\n",
        "from sklearn.tree import DecisionTreeClassifier\n",
        "from sklearn.ensemble import RandomForestClassifier"
      ],
      "metadata": {
        "id": "j8C06RMW3Bp6"
      },
      "execution_count": null,
      "outputs": []
    },
    {
      "cell_type": "code",
      "source": [
        "#import dataset\n",
        "income_data = pd.read_csv('[INSERT FILE PATH HERE]', header=0, delimiter=', ')"
      ],
      "metadata": {
        "id": "UpIu8-Fd3hzv"
      },
      "execution_count": null,
      "outputs": []
    },
    {
      "cell_type": "code",
      "source": [
        "#random forests cannot classify string data\n",
        "#transform strings to integers\n",
        "income_data['sex_int'] = income_data['sex'].apply(lambda row: 0 if row == 'Male' else 1)\n",
        "\n",
        "income_data['country_int'] = income_data['native-country'].apply(lambda row: 0 if row == 'United-States' else 1)"
      ],
      "metadata": {
        "id": "x1AF2xUI3pdW"
      },
      "execution_count": null,
      "outputs": []
    },
    {
      "cell_type": "code",
      "source": [
        "#isolate labels of dataset\n",
        "labels = income_data[['income']]"
      ],
      "metadata": {
        "id": "a_xSM_Dt3r7d"
      },
      "execution_count": null,
      "outputs": []
    },
    {
      "cell_type": "code",
      "source": [
        "#isolate data to use in random forest\n",
        "data = income_data[['age', 'capital-gain', 'capital-loss', 'hours-per-week', 'sex_int', 'country_int']]"
      ],
      "metadata": {
        "id": "wJ0izM-A3t6J"
      },
      "execution_count": null,
      "outputs": []
    },
    {
      "cell_type": "markdown",
      "source": [
        "#Random forest"
      ],
      "metadata": {
        "id": "q7lNpVti34k-"
      }
    },
    {
      "cell_type": "code",
      "source": [
        "#create train-test split function\n",
        "train_data, test_data, train_labels, test_labels = train_test_split(data, labels)\n",
        "\n",
        "#create random forest classifier to build model\n",
        "forest = RandomForestClassifier(random_state=1)\n",
        "\n",
        "#fit the model with training data\n",
        "forest.fit(train_data, train_labels)\n",
        "\n",
        "#find the most relevant features\n",
        "key_features = forest.feature_importances_\n",
        "print(key_features)\n",
        "#test the model's accuracy\n",
        "forest_score = forest.score(test_data, test_labels)\n",
        "print(forest_score)"
      ],
      "metadata": {
        "id": "ppVUK6JS3vw6"
      },
      "execution_count": null,
      "outputs": []
    },
    {
      "cell_type": "markdown",
      "source": [
        "#Decision tree"
      ],
      "metadata": {
        "id": "eqG8vf1b36UL"
      }
    },
    {
      "cell_type": "code",
      "source": [
        "#run using a single tree to determine which performs better\n",
        "tree_classifier = DecisionTreeClassifier(random_state=1)\n",
        "tree_classifier = tree_classifier.fit(train_data, train_labels)\n",
        "tree_classifier = tree_classifier.score(test_data, test_labels)\n",
        "print(tree_classifier)"
      ],
      "metadata": {
        "id": "NGQcsMSK33DP"
      },
      "execution_count": null,
      "outputs": []
    }
  ]
}