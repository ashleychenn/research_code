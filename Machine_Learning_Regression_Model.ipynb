{
  "nbformat": 4,
  "nbformat_minor": 0,
  "metadata": {
    "colab": {
      "provenance": [],
      "authorship_tag": "ABX9TyOdRLGmF0j6BKfWItuvtyue",
      "include_colab_link": true
    },
    "kernelspec": {
      "name": "python3",
      "display_name": "Python 3"
    },
    "language_info": {
      "name": "python"
    }
  },
  "cells": [
    {
      "cell_type": "markdown",
      "metadata": {
        "id": "view-in-github",
        "colab_type": "text"
      },
      "source": [
        "<a href=\"https://colab.research.google.com/github/ashleychenn/research_code/blob/main/Machine_Learning_Regression_Model.ipynb\" target=\"_parent\"><img src=\"https://colab.research.google.com/assets/colab-badge.svg\" alt=\"Open In Colab\"/></a>"
      ]
    },
    {
      "cell_type": "code",
      "source": [
        "from google.colab import drive\n",
        "drive.mount('/content/gdrive')"
      ],
      "metadata": {
        "id": "mirkYdrzxKgA"
      },
      "execution_count": null,
      "outputs": []
    },
    {
      "cell_type": "code",
      "source": [
        "import pandas as pd\n",
        "from sklearn.model_selection import train_test_split\n",
        "from sklearn.preprocessing import StandardScaler\n",
        "from sklearn.preprocessing import Normalizer\n",
        "from sklearn.compose import ColumnTransformer\n",
        "from tensorflow.keras.models import Sequential\n",
        "from tensorflow.keras.layers import InputLayer\n",
        "from tensorflow.keras.layers import Dense\n",
        "from tensorflow.keras.optimizers import Adam"
      ],
      "metadata": {
        "id": "B7QEui6txJ5R"
      },
      "execution_count": null,
      "outputs": []
    },
    {
      "cell_type": "code",
      "execution_count": null,
      "metadata": {
        "id": "nEEfClCcxHvX"
      },
      "outputs": [],
      "source": [
        "dataset = pd.read_csv('life_expectancy.csv')\n",
        "\n",
        "dataset = dataset.drop(['Country'], axis=1)\n",
        "labels = dataset.iloc[:, -1]\n",
        "features = dataset.iloc[:, 0:-1]\n",
        "features = pd.get_dummies(features)\n",
        "\n",
        "numerical_features = features.select_dtypes(include=['float64', 'int64'])\n",
        "numerical_columns = numerical_features.columns\n",
        "\n",
        "features_train, features_test, labels_train, labels_test = train_test_split(features, labels, test_size=0.2, random_state=23)\n",
        "ct = ColumnTransformer([('only numeric', StandardScaler(), numerical_columns)], remainder='passthrough')\n",
        "\n",
        "features_train_scaled = ct.fit_transform(features_train)\n",
        "features_test_scaled = ct.fit_transform(features_test)\n",
        "\n",
        "my_model = Sequential()\n",
        "input = InputLayer(input_shape=(features.shape[1], ))\n",
        "my_model.add(input)\n",
        "my_model.add(Dense(64, activation='relu'))\n",
        "my_model.add(Dense(1))\n",
        "\n",
        "opt = Adam(learning_rate=0.01)\n",
        "my_model.compile(loss='mse', metrics=['mae'], optimizer=opt)\n",
        "my_model.fit(features_train, labels_train, epochs=40, batch_size=1, verbose=1)\n",
        "res_mse, res_mae = my_model.evaluate(features_test, labels_test, verbose=0)\n",
        "print(my_model.summary())\n",
        "print(res_mse, res_mae)\n",
        "print(dataset.head())\n",
        "print(dataset.describe())"
      ]
    }
  ]
}