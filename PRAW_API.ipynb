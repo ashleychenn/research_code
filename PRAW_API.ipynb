{
  "cells": [
    {
      "cell_type": "markdown",
      "metadata": {
        "id": "mTjbWIL8NmTL"
      },
      "source": [
        "\n",
        "## Digital Fashion Sentiment Analysis\n",
        "This code allows you to measure sentiment on specific subreddits."
      ]
    },
    {
      "cell_type": "code",
      "execution_count": null,
      "metadata": {
        "colab": {
          "base_uri": "https://localhost:8080/"
        },
        "id": "yjK2e_FjMo-c",
        "outputId": "b0d7118d-4e60-4d69-a073-3f63f0fcd515"
      },
      "outputs": [
        {
          "output_type": "stream",
          "name": "stdout",
          "text": [
            "Looking in indexes: https://pypi.org/simple, https://us-python.pkg.dev/colab-wheels/public/simple/\n",
            "Collecting praw\n",
            "  Downloading praw-7.6.0-py3-none-any.whl (188 kB)\n",
            "\u001b[K     |████████████████████████████████| 188 kB 4.3 MB/s \n",
            "\u001b[?25hCollecting update-checker>=0.18\n",
            "  Downloading update_checker-0.18.0-py3-none-any.whl (7.0 kB)\n",
            "Collecting prawcore<3,>=2.1\n",
            "  Downloading prawcore-2.3.0-py3-none-any.whl (16 kB)\n",
            "Collecting websocket-client>=0.54.0\n",
            "  Downloading websocket_client-1.3.2-py3-none-any.whl (54 kB)\n",
            "\u001b[K     |████████████████████████████████| 54 kB 2.7 MB/s \n",
            "\u001b[?25hRequirement already satisfied: requests<3.0,>=2.6.0 in /usr/local/lib/python3.7/dist-packages (from prawcore<3,>=2.1->praw) (2.23.0)\n",
            "Requirement already satisfied: certifi>=2017.4.17 in /usr/local/lib/python3.7/dist-packages (from requests<3.0,>=2.6.0->prawcore<3,>=2.1->praw) (2022.5.18.1)\n",
            "Requirement already satisfied: chardet<4,>=3.0.2 in /usr/local/lib/python3.7/dist-packages (from requests<3.0,>=2.6.0->prawcore<3,>=2.1->praw) (3.0.4)\n",
            "Requirement already satisfied: urllib3!=1.25.0,!=1.25.1,<1.26,>=1.21.1 in /usr/local/lib/python3.7/dist-packages (from requests<3.0,>=2.6.0->prawcore<3,>=2.1->praw) (1.24.3)\n",
            "Requirement already satisfied: idna<3,>=2.5 in /usr/local/lib/python3.7/dist-packages (from requests<3.0,>=2.6.0->prawcore<3,>=2.1->praw) (2.10)\n",
            "Installing collected packages: websocket-client, update-checker, prawcore, praw\n",
            "Successfully installed praw-7.6.0 prawcore-2.3.0 update-checker-0.18.0 websocket-client-1.3.2\n"
          ]
        }
      ],
      "source": [
        "#Install PRAW, a Python library for scrapping Reddit\n",
        "\n",
        "! pip install praw"
      ]
    },
    {
      "cell_type": "code",
      "source": [
        "from google.colab import drive\n",
        "drive.mount('/content/drive') "
      ],
      "metadata": {
        "colab": {
          "base_uri": "https://localhost:8080/"
        },
        "id": "CHjlg42rZL0u",
        "outputId": "0583af17-914b-400c-8f18-fda7982c6b43"
      },
      "execution_count": null,
      "outputs": [
        {
          "output_type": "stream",
          "name": "stdout",
          "text": [
            "Drive already mounted at /content/drive; to attempt to forcibly remount, call drive.mount(\"/content/drive\", force_remount=True).\n"
          ]
        }
      ]
    },
    {
      "cell_type": "code",
      "execution_count": null,
      "metadata": {
        "id": "0X2eMYlcOVPI",
        "outputId": "dfb504a6-c084-4e18-a4e5-34c0a983b5e7",
        "colab": {
          "base_uri": "https://localhost:8080/",
          "height": 385
        }
      },
      "outputs": [
        {
          "output_type": "error",
          "ename": "ModuleNotFoundError",
          "evalue": "ignored",
          "traceback": [
            "\u001b[0;31m---------------------------------------------------------------------------\u001b[0m",
            "\u001b[0;31mModuleNotFoundError\u001b[0m                       Traceback (most recent call last)",
            "\u001b[0;32m<ipython-input-1-63c4ab1ca28d>\u001b[0m in \u001b[0;36m<module>\u001b[0;34m()\u001b[0m\n\u001b[1;32m      6\u001b[0m \u001b[0;32mimport\u001b[0m \u001b[0mmatplotlib\u001b[0m\u001b[0;34m.\u001b[0m\u001b[0mpyplot\u001b[0m \u001b[0;32mas\u001b[0m \u001b[0mplt\u001b[0m\u001b[0;34m\u001b[0m\u001b[0;34m\u001b[0m\u001b[0m\n\u001b[1;32m      7\u001b[0m \u001b[0;32mimport\u001b[0m \u001b[0mseaborn\u001b[0m \u001b[0;32mas\u001b[0m \u001b[0msns\u001b[0m\u001b[0;34m\u001b[0m\u001b[0;34m\u001b[0m\u001b[0m\n\u001b[0;32m----> 8\u001b[0;31m \u001b[0;32mimport\u001b[0m \u001b[0mpraw\u001b[0m\u001b[0;34m\u001b[0m\u001b[0;34m\u001b[0m\u001b[0m\n\u001b[0m\u001b[1;32m      9\u001b[0m \u001b[0;32mimport\u001b[0m \u001b[0mrequests\u001b[0m\u001b[0;34m\u001b[0m\u001b[0;34m\u001b[0m\u001b[0m\n\u001b[1;32m     10\u001b[0m \u001b[0;32mimport\u001b[0m \u001b[0mjson\u001b[0m\u001b[0;34m\u001b[0m\u001b[0;34m\u001b[0m\u001b[0m\n",
            "\u001b[0;31mModuleNotFoundError\u001b[0m: No module named 'praw'",
            "",
            "\u001b[0;31m---------------------------------------------------------------------------\u001b[0;32m\nNOTE: If your import is failing due to a missing package, you can\nmanually install dependencies using either !pip or !apt.\n\nTo view examples of installing some common dependencies, click the\n\"Open Examples\" button below.\n\u001b[0;31m---------------------------------------------------------------------------\u001b[0m\n"
          ],
          "errorDetails": {
            "actions": [
              {
                "action": "open_url",
                "actionText": "Open Examples",
                "url": "/notebooks/snippets/importing_libraries.ipynb"
              }
            ]
          }
        }
      ],
      "source": [
        "#install other libraries for performing analysis\n",
        "\n",
        "from pprint import pprint\n",
        "import pandas as pd\n",
        "import numpy as np\n",
        "import praw\n",
        "import requests\n",
        "import json\n",
        "import csv\n",
        "import datetime"
      ]
    },
    {
      "cell_type": "markdown",
      "source": [
        "#Scrape data from Reddit"
      ],
      "metadata": {
        "id": "VIVwrpUJYHw8"
      }
    },
    {
      "cell_type": "code",
      "execution_count": null,
      "metadata": {
        "id": "CZZeQ_JHPB8x"
      },
      "outputs": [],
      "source": [
        "user_agent = 'Digital Fashion Scraper 1.0 by /u/BeautifulEnough9907'\n",
        "reddit = praw.Reddit(\n",
        "    client_id='JRczjCRsWmR3odTjccaE8Q',\n",
        "    client_secret='qJDs55HYI65Kci7707yBFPR3QhppXw',\n",
        "    user_agent=user_agent,\n",
        "    check_for_async=False\n",
        ")"
      ]
    },
    {
      "cell_type": "code",
      "execution_count": null,
      "metadata": {
        "id": "efLFb2phBxXE"
      },
      "outputs": [],
      "source": [
        "#list of subreddits\n",
        "\n",
        "augmented_reality = reddit.subreddit('augmentedreality')\n",
        "nfts_marketplace = reddit.subreddit('NFTsMarketplace')\n",
        "tcg_coin = reddit.subreddit('TcgCoin')\n",
        "nft = reddit.subreddit('NFT')\n",
        "free_nfts = reddit.subreddit('FreeNFTs')\n",
        "eth_trader = reddit.subreddit('ethtrader')\n",
        "metaverse = reddit.subreddit('metaverse')\n",
        "crypto_art = reddit.subreddit('CryptoArt')\n",
        "gravity_skins = reddit.subreddit('GravitySkins')\n",
        "clo3d = reddit.subreddit('CLO3D')\n",
        "digital_fashion = reddit.subreddit('DigitalFashion')"
      ]
    },
    {
      "cell_type": "code",
      "execution_count": null,
      "metadata": {
        "colab": {
          "base_uri": "https://localhost:8080/"
        },
        "id": "2iK_7urUksIt",
        "outputId": "f188cadd-c5e8-4885-d9d5-4f87d7d233d7"
      },
      "outputs": [
        {
          "output_type": "stream",
          "name": "stdout",
          "text": [
            "14\n"
          ]
        }
      ],
      "source": [
        "#grab all the headlines\n",
        "\n",
        "#headlines = set()\n",
        "#for submission in digital_fashion.new(limit=None):\n",
        "#  headlines.add(submission.title)\n",
        "#print(len(headlines))"
      ]
    },
    {
      "cell_type": "code",
      "source": [
        "#grab data and place in DataFrame\n",
        "\n",
        "posts = []\n",
        "for post in digital_fashion.hot(limit=None):\n",
        "  posts.append([post.title, post.score, post.num_comments, post.selftext, post.created_utc, post.id])\n",
        "posts = pd.DataFrame(posts, columns=['Title', 'Score', 'Number of Comments', 'Submission Text', 'Date Created', 'ID'])\n",
        "print('There are', len(posts.Title), 'new posts in this subreddit.')"
      ],
      "metadata": {
        "colab": {
          "base_uri": "https://localhost:8080/"
        },
        "id": "xsYBWUQ83GVN",
        "outputId": "4669dd5d-d1ac-4f46-d0e6-e0bf81b90861"
      },
      "execution_count": null,
      "outputs": [
        {
          "output_type": "stream",
          "name": "stdout",
          "text": [
            "There are 15 new posts in this subreddit.\n"
          ]
        }
      ]
    },
    {
      "cell_type": "code",
      "source": [
        "#find mentions of 'digital fashion' using .isin command\n",
        "\n",
        "posts[posts.Title.isin(['digital fashion'])]\n",
        "posts"
      ],
      "metadata": {
        "colab": {
          "base_uri": "https://localhost:8080/",
          "height": 520
        },
        "id": "jx6FPzPHRQqH",
        "outputId": "46b2b27d-f1dd-4b88-8ca9-69ba7a45d8b4"
      },
      "execution_count": null,
      "outputs": [
        {
          "output_type": "execute_result",
          "data": {
            "text/plain": [
              "                                                Title  Score  \\\n",
              "0                             r/DigitalFashion Lounge      2   \n",
              "1   Looking for Digital Fashion Enthusiasts to tak...      1   \n",
              "2                      Seeking Digital Fashion Artist      2   \n",
              "3              What is the future of digital fashion?      3   \n",
              "4   Hi guys! We are a digital fashion NFT platform...      1   \n",
              "5   Trailer for our upcoming AR digital fashion ap...      1   \n",
              "6   Sense - immaterial Reality is bringing an inne...      1   \n",
              "7   Exciting event happening today! All are welcom...      1   \n",
              "8   Immaterial Reality can help companies to achie...      1   \n",
              "9                              digital fashion survey      2   \n",
              "10                                        Ateliar app      3   \n",
              "11  Our mission is to support companies in the dig...      3   \n",
              "12                   Digital Fashion news subreddits?      2   \n",
              "13                   How to dive into digital fashion      2   \n",
              "14  Ah, summer 🏖 We could wax poetic about how res...      2   \n",
              "\n",
              "    Number of Comments                                    Submission Text  \\\n",
              "0                    1  A place for members of r/DigitalFashion to cha...   \n",
              "1                    0  Hi Everyone, I am in my final year at universi...   \n",
              "2                    0  Hey everyone! \\n\\nI’m looking to hire a digita...   \n",
              "3                    0   \\n\\nHello everyone, my name is Ani.\\n\\nI am c...   \n",
              "4                    0                                                      \n",
              "5                    3                                                      \n",
              "6                    0                                                      \n",
              "7                    0                                                      \n",
              "8                    0                                                      \n",
              "9                    0  Hello, I am doing a study on digital fashion o...   \n",
              "10                   0  Hey guys I have been interested in digital fas...   \n",
              "11                   0                                                      \n",
              "12                   1  I know there's only like 4 of us in here but d...   \n",
              "13                   2  Hi everyone, \\n\\nI'm a fashion designer and I ...   \n",
              "14                   0                                                      \n",
              "\n",
              "    Date Created      ID  \n",
              "0   1.629745e+09  pa67f6  \n",
              "1   1.650885e+09  ubil0c  \n",
              "2   1.649267e+09  txrx0w  \n",
              "3   1.647476e+09  tfx8er  \n",
              "4   1.646394e+09  t6h0y2  \n",
              "5   1.645078e+09  suht8h  \n",
              "6   1.643709e+09  shr99s  \n",
              "7   1.643290e+09  sdy9qv  \n",
              "8   1.643282e+09  sdvz1w  \n",
              "9   1.638099e+09  r42d0r  \n",
              "10  1.638074e+09  r3vz63  \n",
              "11  1.633525e+09  q2jz1l  \n",
              "12  1.633057e+09  pyz0ri  \n",
              "13  1.632655e+09  pvrun0  \n",
              "14  1.631875e+09  ppxn7l  "
            ],
            "text/html": [
              "\n",
              "  <div id=\"df-0bf3143d-1006-4b43-b8e6-469273856699\">\n",
              "    <div class=\"colab-df-container\">\n",
              "      <div>\n",
              "<style scoped>\n",
              "    .dataframe tbody tr th:only-of-type {\n",
              "        vertical-align: middle;\n",
              "    }\n",
              "\n",
              "    .dataframe tbody tr th {\n",
              "        vertical-align: top;\n",
              "    }\n",
              "\n",
              "    .dataframe thead th {\n",
              "        text-align: right;\n",
              "    }\n",
              "</style>\n",
              "<table border=\"1\" class=\"dataframe\">\n",
              "  <thead>\n",
              "    <tr style=\"text-align: right;\">\n",
              "      <th></th>\n",
              "      <th>Title</th>\n",
              "      <th>Score</th>\n",
              "      <th>Number of Comments</th>\n",
              "      <th>Submission Text</th>\n",
              "      <th>Date Created</th>\n",
              "      <th>ID</th>\n",
              "    </tr>\n",
              "  </thead>\n",
              "  <tbody>\n",
              "    <tr>\n",
              "      <th>0</th>\n",
              "      <td>r/DigitalFashion Lounge</td>\n",
              "      <td>2</td>\n",
              "      <td>1</td>\n",
              "      <td>A place for members of r/DigitalFashion to cha...</td>\n",
              "      <td>1.629745e+09</td>\n",
              "      <td>pa67f6</td>\n",
              "    </tr>\n",
              "    <tr>\n",
              "      <th>1</th>\n",
              "      <td>Looking for Digital Fashion Enthusiasts to tak...</td>\n",
              "      <td>1</td>\n",
              "      <td>0</td>\n",
              "      <td>Hi Everyone, I am in my final year at universi...</td>\n",
              "      <td>1.650885e+09</td>\n",
              "      <td>ubil0c</td>\n",
              "    </tr>\n",
              "    <tr>\n",
              "      <th>2</th>\n",
              "      <td>Seeking Digital Fashion Artist</td>\n",
              "      <td>2</td>\n",
              "      <td>0</td>\n",
              "      <td>Hey everyone! \\n\\nI’m looking to hire a digita...</td>\n",
              "      <td>1.649267e+09</td>\n",
              "      <td>txrx0w</td>\n",
              "    </tr>\n",
              "    <tr>\n",
              "      <th>3</th>\n",
              "      <td>What is the future of digital fashion?</td>\n",
              "      <td>3</td>\n",
              "      <td>0</td>\n",
              "      <td>\\n\\nHello everyone, my name is Ani.\\n\\nI am c...</td>\n",
              "      <td>1.647476e+09</td>\n",
              "      <td>tfx8er</td>\n",
              "    </tr>\n",
              "    <tr>\n",
              "      <th>4</th>\n",
              "      <td>Hi guys! We are a digital fashion NFT platform...</td>\n",
              "      <td>1</td>\n",
              "      <td>0</td>\n",
              "      <td></td>\n",
              "      <td>1.646394e+09</td>\n",
              "      <td>t6h0y2</td>\n",
              "    </tr>\n",
              "    <tr>\n",
              "      <th>5</th>\n",
              "      <td>Trailer for our upcoming AR digital fashion ap...</td>\n",
              "      <td>1</td>\n",
              "      <td>3</td>\n",
              "      <td></td>\n",
              "      <td>1.645078e+09</td>\n",
              "      <td>suht8h</td>\n",
              "    </tr>\n",
              "    <tr>\n",
              "      <th>6</th>\n",
              "      <td>Sense - immaterial Reality is bringing an inne...</td>\n",
              "      <td>1</td>\n",
              "      <td>0</td>\n",
              "      <td></td>\n",
              "      <td>1.643709e+09</td>\n",
              "      <td>shr99s</td>\n",
              "    </tr>\n",
              "    <tr>\n",
              "      <th>7</th>\n",
              "      <td>Exciting event happening today! All are welcom...</td>\n",
              "      <td>1</td>\n",
              "      <td>0</td>\n",
              "      <td></td>\n",
              "      <td>1.643290e+09</td>\n",
              "      <td>sdy9qv</td>\n",
              "    </tr>\n",
              "    <tr>\n",
              "      <th>8</th>\n",
              "      <td>Immaterial Reality can help companies to achie...</td>\n",
              "      <td>1</td>\n",
              "      <td>0</td>\n",
              "      <td></td>\n",
              "      <td>1.643282e+09</td>\n",
              "      <td>sdvz1w</td>\n",
              "    </tr>\n",
              "    <tr>\n",
              "      <th>9</th>\n",
              "      <td>digital fashion survey</td>\n",
              "      <td>2</td>\n",
              "      <td>0</td>\n",
              "      <td>Hello, I am doing a study on digital fashion o...</td>\n",
              "      <td>1.638099e+09</td>\n",
              "      <td>r42d0r</td>\n",
              "    </tr>\n",
              "    <tr>\n",
              "      <th>10</th>\n",
              "      <td>Ateliar app</td>\n",
              "      <td>3</td>\n",
              "      <td>0</td>\n",
              "      <td>Hey guys I have been interested in digital fas...</td>\n",
              "      <td>1.638074e+09</td>\n",
              "      <td>r3vz63</td>\n",
              "    </tr>\n",
              "    <tr>\n",
              "      <th>11</th>\n",
              "      <td>Our mission is to support companies in the dig...</td>\n",
              "      <td>3</td>\n",
              "      <td>0</td>\n",
              "      <td></td>\n",
              "      <td>1.633525e+09</td>\n",
              "      <td>q2jz1l</td>\n",
              "    </tr>\n",
              "    <tr>\n",
              "      <th>12</th>\n",
              "      <td>Digital Fashion news subreddits?</td>\n",
              "      <td>2</td>\n",
              "      <td>1</td>\n",
              "      <td>I know there's only like 4 of us in here but d...</td>\n",
              "      <td>1.633057e+09</td>\n",
              "      <td>pyz0ri</td>\n",
              "    </tr>\n",
              "    <tr>\n",
              "      <th>13</th>\n",
              "      <td>How to dive into digital fashion</td>\n",
              "      <td>2</td>\n",
              "      <td>2</td>\n",
              "      <td>Hi everyone, \\n\\nI'm a fashion designer and I ...</td>\n",
              "      <td>1.632655e+09</td>\n",
              "      <td>pvrun0</td>\n",
              "    </tr>\n",
              "    <tr>\n",
              "      <th>14</th>\n",
              "      <td>Ah, summer 🏖 We could wax poetic about how res...</td>\n",
              "      <td>2</td>\n",
              "      <td>0</td>\n",
              "      <td></td>\n",
              "      <td>1.631875e+09</td>\n",
              "      <td>ppxn7l</td>\n",
              "    </tr>\n",
              "  </tbody>\n",
              "</table>\n",
              "</div>\n",
              "      <button class=\"colab-df-convert\" onclick=\"convertToInteractive('df-0bf3143d-1006-4b43-b8e6-469273856699')\"\n",
              "              title=\"Convert this dataframe to an interactive table.\"\n",
              "              style=\"display:none;\">\n",
              "        \n",
              "  <svg xmlns=\"http://www.w3.org/2000/svg\" height=\"24px\"viewBox=\"0 0 24 24\"\n",
              "       width=\"24px\">\n",
              "    <path d=\"M0 0h24v24H0V0z\" fill=\"none\"/>\n",
              "    <path d=\"M18.56 5.44l.94 2.06.94-2.06 2.06-.94-2.06-.94-.94-2.06-.94 2.06-2.06.94zm-11 1L8.5 8.5l.94-2.06 2.06-.94-2.06-.94L8.5 2.5l-.94 2.06-2.06.94zm10 10l.94 2.06.94-2.06 2.06-.94-2.06-.94-.94-2.06-.94 2.06-2.06.94z\"/><path d=\"M17.41 7.96l-1.37-1.37c-.4-.4-.92-.59-1.43-.59-.52 0-1.04.2-1.43.59L10.3 9.45l-7.72 7.72c-.78.78-.78 2.05 0 2.83L4 21.41c.39.39.9.59 1.41.59.51 0 1.02-.2 1.41-.59l7.78-7.78 2.81-2.81c.8-.78.8-2.07 0-2.86zM5.41 20L4 18.59l7.72-7.72 1.47 1.35L5.41 20z\"/>\n",
              "  </svg>\n",
              "      </button>\n",
              "      \n",
              "  <style>\n",
              "    .colab-df-container {\n",
              "      display:flex;\n",
              "      flex-wrap:wrap;\n",
              "      gap: 12px;\n",
              "    }\n",
              "\n",
              "    .colab-df-convert {\n",
              "      background-color: #E8F0FE;\n",
              "      border: none;\n",
              "      border-radius: 50%;\n",
              "      cursor: pointer;\n",
              "      display: none;\n",
              "      fill: #1967D2;\n",
              "      height: 32px;\n",
              "      padding: 0 0 0 0;\n",
              "      width: 32px;\n",
              "    }\n",
              "\n",
              "    .colab-df-convert:hover {\n",
              "      background-color: #E2EBFA;\n",
              "      box-shadow: 0px 1px 2px rgba(60, 64, 67, 0.3), 0px 1px 3px 1px rgba(60, 64, 67, 0.15);\n",
              "      fill: #174EA6;\n",
              "    }\n",
              "\n",
              "    [theme=dark] .colab-df-convert {\n",
              "      background-color: #3B4455;\n",
              "      fill: #D2E3FC;\n",
              "    }\n",
              "\n",
              "    [theme=dark] .colab-df-convert:hover {\n",
              "      background-color: #434B5C;\n",
              "      box-shadow: 0px 1px 3px 1px rgba(0, 0, 0, 0.15);\n",
              "      filter: drop-shadow(0px 1px 2px rgba(0, 0, 0, 0.3));\n",
              "      fill: #FFFFFF;\n",
              "    }\n",
              "  </style>\n",
              "\n",
              "      <script>\n",
              "        const buttonEl =\n",
              "          document.querySelector('#df-0bf3143d-1006-4b43-b8e6-469273856699 button.colab-df-convert');\n",
              "        buttonEl.style.display =\n",
              "          google.colab.kernel.accessAllowed ? 'block' : 'none';\n",
              "\n",
              "        async function convertToInteractive(key) {\n",
              "          const element = document.querySelector('#df-0bf3143d-1006-4b43-b8e6-469273856699');\n",
              "          const dataTable =\n",
              "            await google.colab.kernel.invokeFunction('convertToInteractive',\n",
              "                                                     [key], {});\n",
              "          if (!dataTable) return;\n",
              "\n",
              "          const docLinkHtml = 'Like what you see? Visit the ' +\n",
              "            '<a target=\"_blank\" href=https://colab.research.google.com/notebooks/data_table.ipynb>data table notebook</a>'\n",
              "            + ' to learn more about interactive tables.';\n",
              "          element.innerHTML = '';\n",
              "          dataTable['output_type'] = 'display_data';\n",
              "          await google.colab.output.renderOutput(dataTable, element);\n",
              "          const docLink = document.createElement('div');\n",
              "          docLink.innerHTML = docLinkHtml;\n",
              "          element.appendChild(docLink);\n",
              "        }\n",
              "      </script>\n",
              "    </div>\n",
              "  </div>\n",
              "  "
            ]
          },
          "metadata": {},
          "execution_count": 11
        }
      ]
    },
    {
      "cell_type": "code",
      "source": [
        "#iterating through comments\n",
        "from praw.models import MoreComments\n",
        "\n",
        "submission = reddit.submission(id='ubil0c')\n",
        "\n",
        "submission.comments.replace_more(limit=0)\n",
        "\n",
        "response = []\n",
        "for comment in submission.comments.list():\n",
        "  response.append(comment.body)\n",
        "print(response)"
      ],
      "metadata": {
        "colab": {
          "base_uri": "https://localhost:8080/"
        },
        "id": "g21OGNdr3QtP",
        "outputId": "532d6aa7-c21d-487e-bb99-14951c6fa6b1"
      },
      "execution_count": null,
      "outputs": [
        {
          "output_type": "stream",
          "name": "stdout",
          "text": [
            "[]\n"
          ]
        }
      ]
    },
    {
      "cell_type": "code",
      "source": [
        "#save data to google sheet\n",
        "\n",
        "from google.colab import auth\n",
        "auth.authenticate_user()\n",
        "\n",
        "import gspread\n",
        "from google.auth import default\n",
        "creds, _ = default()\n",
        "\n",
        "gc = gspread.authorize(creds)\n",
        "\n",
        "#sh = gc.create('Digital Fashion Conversation')\n",
        "\n",
        "# Open our new sheet and add some data.\n",
        "wb = gc.open_by_key('1npXfKIBmmqNQbKaXvC0e_pWTMSumd3IgcRTijV9vDHk')\n",
        "\n",
        "ws = wb.worksheet('Digital Fashion Subreddit')\n",
        "\n",
        "#cell_list = ws.range('A1:C2')\n",
        "\n",
        "#import random\n",
        "#for cell in cell_list:\n",
        "#  cell.value = random.randint(1, 10)\n",
        "\n",
        "#worksheet.update_cells(cell_list)\n",
        "# Go to https://sheets.google.com to see your new spreadsheet."
      ],
      "metadata": {
        "id": "AdwYaxmrgtxu"
      },
      "execution_count": null,
      "outputs": []
    },
    {
      "cell_type": "code",
      "source": [
        "ws = wb.worksheet('Digital Fashion Subreddit')\n",
        "ws.update(None, data_to_write)"
      ],
      "metadata": {
        "colab": {
          "base_uri": "https://localhost:8080/"
        },
        "id": "USuUzG4prKXE",
        "outputId": "04890653-b264-4c14-a190-3ddf6ab0015b"
      },
      "execution_count": null,
      "outputs": [
        {
          "output_type": "execute_result",
          "data": {
            "text/plain": [
              "{'spreadsheetId': '1npXfKIBmmqNQbKaXvC0e_pWTMSumd3IgcRTijV9vDHk',\n",
              " 'updatedCells': 90,\n",
              " 'updatedColumns': 6,\n",
              " 'updatedRange': \"'Digital Fashion Subreddit'!A1:F15\",\n",
              " 'updatedRows': 15}"
            ]
          },
          "metadata": {},
          "execution_count": 44
        }
      ]
    }
  ],
  "metadata": {
    "colab": {
      "name": "PRAW API",
      "provenance": []
    },
    "kernelspec": {
      "display_name": "Python 3",
      "name": "python3"
    },
    "language_info": {
      "name": "python"
    }
  },
  "nbformat": 4,
  "nbformat_minor": 0
}